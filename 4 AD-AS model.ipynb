{
 "cells": [
  {
   "cell_type": "code",
   "execution_count": null,
   "metadata": {
    "collapsed": true
   },
   "outputs": [],
   "source": [
    "from sympy import *\n",
    "%matplotlib inline\n",
    "\n",
    "\n",
    "init_printing(use_latex=True)"
   ]
  },
  {
   "cell_type": "code",
   "execution_count": null,
   "metadata": {
    "collapsed": true
   },
   "outputs": [],
   "source": []
  },
  {
   "cell_type": "code",
   "execution_count": null,
   "metadata": {
    "collapsed": true
   },
   "outputs": [],
   "source": []
  },
  {
   "cell_type": "code",
   "execution_count": null,
   "metadata": {
    "collapsed": true
   },
   "outputs": [],
   "source": []
  },
  {
   "cell_type": "code",
   "execution_count": null,
   "metadata": {
    "collapsed": true
   },
   "outputs": [],
   "source": [
    "from __future__ import division\n",
    "from sympy import *\n",
    "x, y, z, t = symbols('x y z t')\n",
    "k, m, n = symbols('k m n', integer=True)\n",
    "f, g, h = symbols('f g h', cls=Function)\n",
    "a, b, c, d ,p, q, qv, qr= symbols('a b c d p q  qv qr')"
   ]
  },
  {
   "cell_type": "code",
   "execution_count": null,
   "metadata": {
    "collapsed": true
   },
   "outputs": [],
   "source": []
  },
  {
   "cell_type": "markdown",
   "metadata": {
    "collapsed": true
   },
   "source": [
    "The **AD–AS model**, Aggregate Demand–Aggregate Supply is an aggregation of the elementary microeconomic demand-and-supply model. \n",
    "\n",
    "The AD curve can be obtained from the IS–LM curves, by removing the fixed price level, representing the set of output and price level combinations that guarantee equilibrium of goods and services and monetary markets. \n",
    "\n",
    "The AS curve represents the set of output and price level combinations that maximise profits of firms. \n",
    "\n",
    "The equilibrium levels of the main variables, GDP and price level, P, are determined by the interaction of the AD and AS curves."
   ]
  },
  {
   "cell_type": "markdown",
   "metadata": {
    "collapsed": true
   },
   "source": [
    "This model can be used to study the effect of changes either in policy variables or in the specification of the interaction between endogenous variables: \n",
    "\n",
    "- product equals aggregate demand, $Y = C + I +G$; \n",
    "\n",
    "- consumption function, $C = \\bar C + c(Y−T)$; \n",
    "\n",
    "- investment function, $I = \\bar I − bR$; \n",
    "\n",
    "- public spending function, $G = \\bar G$; \n",
    "\n",
    "- income taxes function, $T = tY$; \n",
    "\n",
    "- money demand, $L = \\bar L + kY − hR$; \n",
    "\n",
    "- money supply function, $ \\bar M/ \\bar P$.\n",
    "\n",
    "- production function, $Y = \\bar A \\bar K^{\\alpha} H^{1− \\alpha}$\n",
    "\n",
    "\n"
   ]
  },
  {
   "cell_type": "markdown",
   "metadata": {
    "collapsed": true
   },
   "source": [
    "## Endogenous variables: \n",
    "\n",
    "- product, $Y$;\n",
    "\n",
    "- consumption, $C$; \n",
    "\n",
    "- investment, $I$; \n",
    "\n",
    "- interest rate, $R$.\n",
    "\n",
    "- prices, $P$.\n"
   ]
  },
  {
   "cell_type": "markdown",
   "metadata": {
    "collapsed": true
   },
   "source": [
    "## Exogenous variables: \n",
    "\n",
    "- government/public spending, $\\bar G$; \n",
    "\n",
    "- independent/autonomous consumption, $\\bar C$; \n",
    "\n",
    "- independent/autonomous investment, $\\bar I$; \n",
    "\n",
    "- income taxes, $\\bar T$;\n",
    "\n",
    "- money supply, $\\bar M$; \n",
    "\n",
    "- nominal wages,$\\bar  W$; \n",
    "\n",
    "- Capital, $\\bar K$; \n",
    "\n",
    "- labour (which is given), $\\bar H$; \n",
    "\n",
    "-  total productivity of factors, $\\bar A$."
   ]
  },
  {
   "cell_type": "markdown",
   "metadata": {},
   "source": [
    "## Parameters:\n",
    "\n",
    "- $c$ is the propensity to consume, $0 < c < 1$; \n",
    "\n",
    "- $b > 0$ is the interest sensitivity of investment; \n",
    "\n",
    "- $k > 0$ is the output sensitivity of the demand for money; \n",
    "\n",
    "- $h > 0$ is the interest sensitivity of the demand for money.\n",
    "\n",
    "- $t ≥ 0$ is the tax rate; \n",
    "\n",
    "-  $0 < \\alpha < 1$ is the share of labour in production;\n",
    "\n",
    "- $1 − \\alpha$ is the share of capital in production.\n",
    "\n",
    "\n"
   ]
  },
  {
   "cell_type": "markdown",
   "metadata": {},
   "source": [
    "### AD curve: aggregate demand"
   ]
  },
  {
   "cell_type": "markdown",
   "metadata": {},
   "source": [
    "The AD curve represents the various amounts of real GDP, IS-LM equilibrium output, that buyers will desire to purchase at each possible price level\n",
    "\n",
    "\n",
    "$$Y = \\frac{ \\frac{1}{h} (\\bar L - \\frac{\\bar M}{\\bar P}) - \\frac{1}{b} (\\bar C + \\bar I + \\bar G  )}{  \\frac{c(1-t)-1}{b} - \\frac{k}{h}}$$\n",
    "\n",
    "\n",
    "\n"
   ]
  },
  {
   "cell_type": "markdown",
   "metadata": {},
   "source": [
    "Representing (Y, P), respectively, in the x–axis and y–axis, it can be stated that:\n",
    "\n",
    "- the position of the AD curve is affected by any factor that affects the position of IS and LM curves; \n",
    "\n",
    "-  $ \\frac{∂Y}{∂P} < 0$ (negative slope);\n",
    "\n",
    "- points on the left (right) side of the curve imply excess (scarcity) of aggregate demand.\n"
   ]
  },
  {
   "cell_type": "markdown",
   "metadata": {},
   "source": [
    "### AS curve: aggregate supply"
   ]
  },
  {
   "cell_type": "markdown",
   "metadata": {},
   "source": [
    "The AS curve represents the real domestic output level that is supplied by the economy at different price levels, having three distinct segments \n",
    "\n",
    "\n",
    "- **Horizontal range**: the price level remains constant, $P =\\bar P$, with substantial output variation, and the economy is far from full employment – *Keynesian (or short-run aggregate supply) curve *(implicit in the IS–LM model). \n",
    "\n",
    "\n",
    "- **Intermediate (up sloping) range**: the expansion of real output is accompanied by a rising price level, near to a full employment level – the hybrid (or intermediate or medium-run aggregate supply) curve (ASmr),\n",
    "\n",
    "$$Y = \\bar A \\bar K^{\\alpha} \\left( \\frac{\\bar W}{\\bar P} \\frac{\\bar K^{-\\alpha}}{(1-\\alpha) \\bar A } \\right)^{\\frac{\\alpha -1}{\\alpha}}  $$\n",
    "\n",
    "\n",
    "   a. $AS_{mr}$ position depends on a change in input prices, change in productivity and change in legal institutional environment; \n",
    "   \n",
    "   b. $\\frac{∂Y}{∂P} > 0$ (positive slope).\n",
    "\n",
    "\n",
    "\n",
    "- **Vertical range**: absolute full capacity is assumed and full employment occurs at the ‘natural rate of unemployment’, $Y = Y^N$ – *Classical* AS (or long-run aggregate supply) curve.\n",
    "\n",
    "\n",
    "\n"
   ]
  },
  {
   "cell_type": "markdown",
   "metadata": {},
   "source": [
    "#### Putting the AD and the AS curves together\n",
    "\n",
    "\n",
    "- Equilibrium price and quantity are found where the AD and AS curves intersect.\n",
    "\n",
    "- If the AD curve shifts right, in the intermediate and vertical AS curve ranges it will cause demand-pull inflation, whereas in the horizontal it will only cause output changes. \n",
    "\n",
    "- The multiplier effect is weakened by price level changes in intermediate and vertical AS curve ranges: the more price level increases the smaller the effect on real GDP is."
   ]
  },
  {
   "cell_type": "markdown",
   "metadata": {},
   "source": [
    "## AD−AS model"
   ]
  },
  {
   "cell_type": "code",
   "execution_count": null,
   "metadata": {
    "collapsed": true
   },
   "outputs": [],
   "source": [
    "## AD−AS model #\n",
    "# Medium−run equilibrium #\n",
    "# Translated from: P.B. Vasconcelos and O. Afonso\n",
    "\n",
    "\n",
    "### parameters "
   ]
  },
  {
   "cell_type": "markdown",
   "metadata": {},
   "source": [
    "### parameters "
   ]
  },
  {
   "cell_type": "code",
   "execution_count": null,
   "metadata": {
    "collapsed": true
   },
   "outputs": [],
   "source": [
    "\n",
    "c = 0.6   # marginal propensity to consume\n",
    "\n",
    "b = 1500  # sensibility of the investment to the interest rate \n",
    "\n",
    "k = 0.2  #sensibility of the money demand to the product \n",
    "\n",
    "h = 1000 #sensibility of the money demand to the interest rate \n",
    "\n",
    "t = 0.2  # tax on consumption\n",
    "\n",
    "alpha = 0.5  # capital share in production\n",
    "\n",
    "aux = (c*(1- t)-1)/b - k/h # auxiliary variable for AD curve"
   ]
  },
  {
   "cell_type": "markdown",
   "metadata": {},
   "source": [
    "## exogenous variables (autonomous components ) "
   ]
  },
  {
   "cell_type": "code",
   "execution_count": null,
   "metadata": {
    "collapsed": true
   },
   "outputs": [],
   "source": [
    "## exogenous variables (autonomous components ) \n",
    "\n",
    "A_bar = 1 # exogenous productivity\n",
    "\n",
    "K_bar = 30000 # stock of capital \n",
    "\n",
    "C_bar = 160  # autonomous consumption \n",
    "\n",
    "I_bar = 100 # autonomous investment \n",
    "\n",
    "G_bar = 200  # government spending \n",
    "\n",
    "M_bar = 1000 # money supply \n",
    "\n",
    "W_bar = 50 # wage \n",
    "\n",
    "L_bar = 225 # autonomous money demand\n",
    "\n"
   ]
  },
  {
   "cell_type": "markdown",
   "metadata": {},
   "source": [
    "## endogenous variables \n"
   ]
  },
  {
   "cell_type": "code",
   "execution_count": null,
   "metadata": {
    "collapsed": true
   },
   "outputs": [],
   "source": [
    "## endogenous variables \n",
    "\n",
    "# Y, product \n",
    "\n",
    "# P, price"
   ]
  },
  {
   "cell_type": "markdown",
   "metadata": {},
   "source": [
    "### System of nonlinear equations"
   ]
  },
  {
   "cell_type": "code",
   "execution_count": null,
   "metadata": {},
   "outputs": [],
   "source": [
    "## AD−AS system \n",
    "\n",
    "def ADAS_system(variables):\n",
    "    \"\"\"\n",
    "    System of non-linear equations for AD-AS model\n",
    "    \n",
    "    exogenous variables (autonomous components ) \n",
    "        global C_bar I_bar G_bar M_bar W_bar L_bar A_bar K_bar b h alpha aux \n",
    "    \n",
    "    endogenous variables:\n",
    "        Y, product: \n",
    "        P, price: \n",
    "        \n",
    "    \"\"\"\n",
    "    (Y,P) =variables\n",
    "    \n",
    "    # global C_bar I_bar G_bar M_bar W_bar L_bar A_bar K_bar b h c k alpha # if we want to change the value of global variables\n",
    "    aux = (c*(1- t)-1)/b - k/h # auxiliary variable for AD curve\n",
    "    \n",
    "    # f = np.zeros(2) # # This is the function that we want to make 0\n",
    "    \n",
    "    AD_eq = Y-1/h*(L_bar-M_bar / P)/ aux+1/b*(C_bar+I_bar+G_bar )/aux\n",
    "    AS_eq = Y - A_bar*K_bar**alpha * (W_bar/P * K_bar**(-alpha)/((1-alpha)*A_bar))**((alpha-1)/alpha)\n",
    "\n",
    "    return [AD_eq, AS_eq ]"
   ]
  },
  {
   "cell_type": "code",
   "execution_count": null,
   "metadata": {
    "collapsed": true
   },
   "outputs": [],
   "source": []
  },
  {
   "cell_type": "code",
   "execution_count": null,
   "metadata": {
    "collapsed": true
   },
   "outputs": [],
   "source": []
  },
  {
   "cell_type": "markdown",
   "metadata": {},
   "source": [
    "###  model solution : compute the endogenous variables "
   ]
  },
  {
   "cell_type": "code",
   "execution_count": null,
   "metadata": {},
   "outputs": [],
   "source": [
    "## model solution : compute the endogenous variables \n",
    "    \n",
    "Y0, P0 = (500, 5) # initial approximation for Y and P, resp \n",
    "\n",
    "\n",
    "import math\n",
    "import scipy.optimize as opt\n",
    "\n",
    "\n",
    "Ystar,Pstar = opt.fsolve(ADAS_system, (Y0, P0 ) ) \n",
    "\n"
   ]
  },
  {
   "cell_type": "code",
   "execution_count": null,
   "metadata": {},
   "outputs": [],
   "source": [
    "Ystar,Pstar"
   ]
  },
  {
   "cell_type": "code",
   "execution_count": null,
   "metadata": {},
   "outputs": [],
   "source": [
    "## show the solution \n",
    "print( 'computed endogenous variables:\\n') \n",
    "print('-----------------------------------------------------------\\n')\n",
    "print('product, Y = {0:.2f}， \\\n",
    "       \\nprice, P = {1:.2f}'.format(Ystar,Pstar)) \n",
    "\n",
    "# show variable of interest \n",
    "                                              \n",
    "                                       \n",
    "Rstar = 1/h * (L_bar - M_bar/Pstar + k*Ystar) \n",
    "\n",
    "print('interest rate(%), R = {0:.2f}'.format(Rstar*100)) "
   ]
  },
  {
   "cell_type": "code",
   "execution_count": null,
   "metadata": {},
   "outputs": [],
   "source": [
    "       \n",
    "     "
   ]
  },
  {
   "cell_type": "code",
   "execution_count": null,
   "metadata": {
    "collapsed": true
   },
   "outputs": [],
   "source": [
    "## plot the solution \n",
    "\n",
    "\n",
    "\n",
    "P = 0 : 0 . 1 : 1 . 5∗ x ( 2 ) ; AS = A_bar∗K_bar ^ alpha ∗(W_bar . / P ∗ . . . K_bar .^(−alpha ) / ((1−alpha ) ∗A_bar ) ) . ^ ( ( alpha−1) / alpha ) ;\n",
    "AD = 1/ h∗( L_bar−M_bar . / P) / aux−1/b∗(C_bar+I_bar+G_bar ) / aux ; plot (AS,P, ’−−b ’ ,AD,P, ’ r ’ ) ; x l im ( [500 1200] ) ; xlabel ( ’ product ’ ) ; ylabel ( ’ p r i ce ’ ) ; legend ( ’AS ’ , ’AD ’ ) ;"
   ]
  },
  {
   "cell_type": "code",
   "execution_count": null,
   "metadata": {
    "collapsed": true
   },
   "outputs": [],
   "source": []
  },
  {
   "cell_type": "code",
   "execution_count": null,
   "metadata": {
    "collapsed": true
   },
   "outputs": [],
   "source": []
  },
  {
   "cell_type": "code",
   "execution_count": null,
   "metadata": {
    "collapsed": true
   },
   "outputs": [],
   "source": []
  },
  {
   "cell_type": "code",
   "execution_count": null,
   "metadata": {
    "collapsed": true
   },
   "outputs": [],
   "source": []
  }
 ],
 "metadata": {
  "kernelspec": {
   "display_name": "Python 3",
   "language": "python",
   "name": "python3"
  },
  "language_info": {
   "codemirror_mode": {
    "name": "ipython",
    "version": 3
   },
   "file_extension": ".py",
   "mimetype": "text/x-python",
   "name": "python",
   "nbconvert_exporter": "python",
   "pygments_lexer": "ipython3",
   "version": "3.6.2"
  }
 },
 "nbformat": 4,
 "nbformat_minor": 2
}
