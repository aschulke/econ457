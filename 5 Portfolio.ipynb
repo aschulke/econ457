{
 "cells": [
  {
   "cell_type": "markdown",
   "metadata": {
    "collapsed": true
   },
   "source": [
    "The portfolio optimisation model, originally proposed by Markowitz (1952), selects proportions of assets to be included in a portfolio. \n",
    "- To have an efficient portfolio: \n",
    "  - the expected return should be maximised contingent on any given number of risks; \n",
    "  - or the risk should be minimised for a given expected return.\n",
    "- Thus, investors are confronted with a trade-off between expected return and risk.\n",
    "- The expected return-risk relationship of efficient portfolios is represented by an efficient frontier curve."
   ]
  },
  {
   "cell_type": "markdown",
   "metadata": {},
   "source": [
    "$$\\max c^T x,$$\n",
    "\n",
    "$$\\mathrm{s.t.} \\quad x^T H x = \\bar \\sigma ^2$$\n",
    "\n",
    "$$\\sum_{i=1}^{n} x_i = 1$$\n",
    "\n",
    "$$x_i \\ge 0$$"
   ]
  },
  {
   "cell_type": "markdown",
   "metadata": {},
   "source": [
    "where \n",
    "- n is the number of assets, \n",
    "- x, n × 1, is the vector of the shares invested in each asset i, \n",
    "- c, n × 1, is the vector of the average benefit per asset, \n",
    "- H, n × n, is the covariance matrix, and \n",
    "- $σ^2$ is the expected risk goal.\n",
    "Problem is know as a **quadratic programming problem**"
   ]
  },
  {
   "cell_type": "markdown",
   "metadata": {},
   "source": [
    "Alternatively, minimise the risk subject to an expected return, c,\n",
    "\n",
    "$$\\min x^T H x,$$\n",
    "\n",
    "$$\\mathrm{s.t.} \\quad c^T x = \\bar c $$\n",
    "\n",
    "$$\\sum_{i=1}^{n} x_i = 1$$\n",
    "\n",
    "$$x_i \\ge 0$$\n",
    "\n",
    "\n"
   ]
  },
  {
   "cell_type": "markdown",
   "metadata": {},
   "source": [
    "The global minimum variance portfolio is the one satisfying minimization problem.\n",
    "\n",
    "The **efficient frontier** is the set of pairs (risk, return) for which the returns are greater than the return provided by the minimum variance portfolio."
   ]
  },
  {
   "cell_type": "markdown",
   "metadata": {},
   "source": [
    "The aim is to find the values of variables that optimise an objective, conditional or not to constraints.\n",
    "Numerical methods overcome limitations of size, but there is no universal algorithm to solve optimisation problems."
   ]
  },
  {
   "cell_type": "code",
   "execution_count": null,
   "metadata": {
    "collapsed": true
   },
   "outputs": [],
   "source": []
  },
  {
   "cell_type": "markdown",
   "metadata": {},
   "source": [
    "- **Optimisation problems** can be classified in various ways, according to, for example: \n",
    "\n",
    " - (i) functions involved; \n",
    " - (ii) type of variables used; \n",
    " - (iii) type of restrictions considered; \n",
    " - (iv) type of solution to be obtained; and \n",
    " - (v) differentiability of the functions involved.\n",
    "\n",
    "\n",
    "- Among the countless optimisation problems, linear, quadratic and nonlinear programming are the most usual. \n",
    "\n",
    "- Many algorithms for nonlinear programming problems only seek local solutions; in particular, for convex linear programming, local solutions are global."
   ]
  },
  {
   "cell_type": "markdown",
   "metadata": {},
   "source": [
    "### General form"
   ]
  },
  {
   "cell_type": "markdown",
   "metadata": {},
   "source": [
    "objective function:\n",
    "\n",
    "$$\\min fun(x)$$\n",
    "\n",
    "linear inequality constraint:\n",
    "\n",
    "$$\\mathrm{s.t.} \\quad A\\,x \\le b$$\n",
    "\n",
    "linear equalilty constraint:\n",
    "\n",
    "$$A_{eq} \\,x = b_{eq}$$\n",
    "\n",
    "lower and upper bound:\n",
    "\n",
    "$$LB \\le x \\le UB$$\n",
    "\n",
    "nonlinear equality constraint:\n",
    "\n",
    "$$ceq(x)=0$$\n",
    "\n",
    "nonlinear inequality constraint:\n",
    "\n",
    "$$c(x)<0$$\n",
    "\n",
    "initial guess:\n",
    "$$x_0 = \\mathrm{initial\\;guess}$$\n"
   ]
  },
  {
   "cell_type": "code",
   "execution_count": null,
   "metadata": {
    "collapsed": true
   },
   "outputs": [],
   "source": []
  },
  {
   "cell_type": "markdown",
   "metadata": {},
   "source": [
    "### One example\n",
    "\n",
    "Mathematical optimization problems may include equality constraints (e.g. =), inequality constraints (e.g. <, <=, >, >=), objective functions, algebraic equations, differential equations, continuous variables, discrete or integer variables, etc. One example of an optimization problem from a benchmark test set is the Hock Schittkowski problem #71.\n",
    "\n",
    "$$\\min x_1 x_4 \\left(x_1 + x_2 + x_3\\right) + x_3$$\n",
    "\n",
    "$$\\mathrm{s.t.} \\quad x_1 x_2 x_3 x_4 \\ge 25$$\n",
    "\n",
    "$$x_1^2 + x_2^2 + x_3^2 + x_4^2 = 40$$\n",
    "\n",
    "$$1\\le x_1, x_2, x_3, x_4 \\le 5$$\n",
    "\n",
    "\n",
    "$$x_0 = (1,5,5,1)$$"
   ]
  },
  {
   "cell_type": "code",
   "execution_count": null,
   "metadata": {},
   "outputs": [],
   "source": [
    "import numpy as np\n",
    "from scipy.optimize import minimize\n",
    "\n",
    "def objective(x):\n",
    "    return x[0]*x[3]*(x[0]+x[1]+x[2])+x[2]\n",
    "\n",
    "def constraint1(x):\n",
    "    return x[0]*x[1]*x[2]*x[3]-25.0\n",
    "\n",
    "def constraint2(x):\n",
    "    sum_eq = 40.0\n",
    "    for i in range(4):\n",
    "        sum_eq = sum_eq - x[i]**2\n",
    "    return sum_eq\n",
    "\n",
    "# initial guesses\n",
    "n = 4\n",
    "x0 = np.zeros(n)\n",
    "x0[0] = 1.0\n",
    "x0[1] = 5.0\n",
    "x0[2] = 5.0\n",
    "x0[3] = 1.0\n",
    "\n",
    "# show initial objective\n",
    "print('Initial SSE Objective: ' + str(objective(x0)))\n",
    "\n",
    "# optimize\n",
    "b = (1.0,5.0)\n",
    "bnds = (b, b, b, b)\n",
    "con1 = {'type': 'ineq', 'fun': constraint1} \n",
    "con2 = {'type': 'eq', 'fun': constraint2}\n",
    "cons = ([con1,con2])\n",
    "solution = minimize(objective,x0,method='SLSQP',\\\n",
    "                    bounds=bnds,constraints=cons)\n",
    "x = solution.x\n",
    "\n",
    "# show final objective\n",
    "print('Final SSE Objective: ' + str(objective(x)))\n",
    "\n",
    "# print solution\n",
    "print('Solution')\n",
    "print('x1 = ' + str(x[0]))\n",
    "print('x2 = ' + str(x[1]))\n",
    "print('x3 = ' + str(x[2]))\n",
    "print('x4 = ' + str(x[3]))"
   ]
  },
  {
   "cell_type": "markdown",
   "metadata": {},
   "source": [
    "### portfolio with minimum variance\n",
    "\n",
    "Consider the following data, respectively, for the returns vector and covariance matrix\n"
   ]
  },
  {
   "cell_type": "code",
   "execution_count": null,
   "metadata": {
    "collapsed": true
   },
   "outputs": [],
   "source": [
    "# returns vector\n",
    "c = np.array([0.100, 0.200, 0.150])"
   ]
  },
  {
   "cell_type": "code",
   "execution_count": null,
   "metadata": {
    "collapsed": true
   },
   "outputs": [],
   "source": [
    "# covariance matrix\n",
    "H = np.matrix([[0.005, -0.010, 0.004],\n",
    "                [-0.010, 0.040, -0.002],\n",
    "               [0.004, -0.002, 0.023]])"
   ]
  },
  {
   "cell_type": "code",
   "execution_count": null,
   "metadata": {
    "collapsed": true
   },
   "outputs": [],
   "source": [
    "def objective(x):\n",
    "    return 0.5*x@H@x + x@c"
   ]
  },
  {
   "cell_type": "code",
   "execution_count": null,
   "metadata": {
    "collapsed": true
   },
   "outputs": [],
   "source": [
    "# initial guesses\n",
    "n =3\n",
    "x0 = np.zeros(n)\n",
    "x0[0] = 1.0\n",
    "x0[1] = 5.0\n",
    "x0[2] = 5.0"
   ]
  },
  {
   "cell_type": "code",
   "execution_count": null,
   "metadata": {},
   "outputs": [],
   "source": []
  },
  {
   "cell_type": "code",
   "execution_count": null,
   "metadata": {},
   "outputs": [],
   "source": [
    "# show initial objective\n",
    "print('Initial SSE Objective: ' + str(objective(x0)))"
   ]
  },
  {
   "cell_type": "code",
   "execution_count": null,
   "metadata": {
    "collapsed": true
   },
   "outputs": [],
   "source": [
    "def constraint(x):\n",
    "    return 1-np.sum(x)"
   ]
  },
  {
   "cell_type": "code",
   "execution_count": null,
   "metadata": {
    "collapsed": true
   },
   "outputs": [],
   "source": []
  },
  {
   "cell_type": "code",
   "execution_count": null,
   "metadata": {
    "collapsed": true
   },
   "outputs": [],
   "source": [
    "\n",
    "# optimize\n",
    "b = (0,np.inf)\n",
    "bnds = (b, b, b)\n",
    "con = {'type': 'eq', 'fun': constraint} \n",
    "\n",
    "solution = minimize(objective,x0,method='SLSQP',\\\n",
    "                    bounds=bnds,constraints=con)\n",
    "x = solution.x\n",
    "\n"
   ]
  },
  {
   "cell_type": "code",
   "execution_count": null,
   "metadata": {},
   "outputs": [],
   "source": [
    "# show final objective\n",
    "print('Final SSE Objective: ' + str(objective(x)))\n",
    "\n",
    "# show final expected return\n",
    "print('Final expected return: ' + str(x@c))\n",
    "\n",
    "# show final risk\n",
    "print('Final risk: ' + str(x@H@x))\n",
    "\n",
    "\n",
    "# print solution\n",
    "print('Solution')\n",
    "print('x1 = ' + str(x[0]))\n",
    "print('x2 = ' + str(x[1]))\n",
    "print('x3 = ' + str(x[2]))\n"
   ]
  },
  {
   "cell_type": "code",
   "execution_count": null,
   "metadata": {
    "collapsed": true
   },
   "outputs": [],
   "source": []
  },
  {
   "cell_type": "code",
   "execution_count": null,
   "metadata": {
    "collapsed": true
   },
   "outputs": [],
   "source": []
  },
  {
   "cell_type": "markdown",
   "metadata": {},
   "source": [
    "### Using cvxopt\n",
    "\n"
   ]
  },
  {
   "cell_type": "markdown",
   "metadata": {},
   "source": [
    "Quadratic programs can be solved via the solvers.qp() function. As an example, we can solve the QP\n",
    "![](http://cvxopt.org/_images/math/c9e7897d1d136af4134f0759edf09fe6dfa7a060.png)"
   ]
  },
  {
   "cell_type": "code",
   "execution_count": null,
   "metadata": {},
   "outputs": [],
   "source": [
    "#!pip install --user cvxopt "
   ]
  },
  {
   "cell_type": "code",
   "execution_count": null,
   "metadata": {},
   "outputs": [],
   "source": [
    "from cvxopt import matrix, solvers\n",
    "# quadratic terms in objective\n",
    "Q = 2*matrix([ [2, .5], [.5, 1] ])\n",
    "# linear terms in objective\n",
    "p = matrix([1.0, 1.0])\n",
    "# inequality constraint, left hand side\n",
    "G = matrix([[-1.0,0.0],[0.0,-1.0]])\n",
    "# inequality constraint, right hand side\n",
    "h = matrix([0.0,0.0])\n",
    "# equality constraint, left hand side\n",
    "A = matrix([1.0, 1.0], (1,2))\n",
    "# equality constraint, right hand side\n",
    "b = matrix(1.0)\n",
    "sol=solvers.qp(Q, p, G, h, A, b)"
   ]
  },
  {
   "cell_type": "code",
   "execution_count": null,
   "metadata": {},
   "outputs": [],
   "source": [
    "print(sol['x'])"
   ]
  },
  {
   "cell_type": "markdown",
   "metadata": {},
   "source": [
    "### portfolio with minimum variance using cvxopt\n",
    "\n",
    "Consider the following data, respectively, for the returns vector and covariance matrix"
   ]
  },
  {
   "cell_type": "code",
   "execution_count": null,
   "metadata": {},
   "outputs": [],
   "source": [
    "# quadratic terms in objective\n",
    "Q = 2*matrix(H)\n",
    "# linear terms in objective\n",
    "p = matrix(c)\n",
    "# inequality constraint, left hand side\n",
    "G = matrix([[-1.0,0.0, 0.0],[0.0,-1.0, 0.0],[0.0, 0.0,-1.0 ]])\n",
    "# inequality constraint, right hand side\n",
    "h = matrix([0.0,0.0, 0.0])\n",
    "# equality constraint, left hand side shape = (1,3)\n",
    "A = matrix([1.0, 1.0, 1.0], (1,3))\n",
    "# equality constraint, right hand side\n",
    "b = matrix(1.0)\n",
    "sol=solvers.qp(Q, p, G, h, A, b)"
   ]
  },
  {
   "cell_type": "code",
   "execution_count": null,
   "metadata": {},
   "outputs": [],
   "source": [
    "print(sol['x'])"
   ]
  },
  {
   "cell_type": "code",
   "execution_count": null,
   "metadata": {},
   "outputs": [],
   "source": [
    "# show final expected return\n",
    "print('Final expected return: ' + str(x@c))\n",
    "\n",
    "# show final risk\n",
    "print('Final risk: ' + str(x@H@x))"
   ]
  },
  {
   "cell_type": "code",
   "execution_count": null,
   "metadata": {},
   "outputs": [],
   "source": []
  },
  {
   "cell_type": "code",
   "execution_count": null,
   "metadata": {
    "collapsed": true
   },
   "outputs": [],
   "source": []
  }
 ],
 "metadata": {
  "kernelspec": {
   "display_name": "Python 3",
   "language": "python",
   "name": "python3"
  },
  "language_info": {
   "codemirror_mode": {
    "name": "ipython",
    "version": 3
   },
   "file_extension": ".py",
   "mimetype": "text/x-python",
   "name": "python",
   "nbconvert_exporter": "python",
   "pygments_lexer": "ipython3",
   "version": "3.6.2"
  }
 },
 "nbformat": 4,
 "nbformat_minor": 2
}
