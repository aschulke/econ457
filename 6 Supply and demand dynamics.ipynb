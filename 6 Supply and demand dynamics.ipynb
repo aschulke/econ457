{
 "cells": [
  {
   "cell_type": "markdown",
   "metadata": {
    "collapsed": true
   },
   "source": [
    "In 1930, Ricci, Tinbergen and Shultz published studies containing the first explicit cobweb model(s).\n",
    "\n",
    "\n",
    "- It is considered that the quantity supplied is a function of the price of the preceding time period. \n",
    "\n",
    "- Then, by describing cyclical supply and demand, it explains why prices can be subject to periodic fluctuations. \n",
    "\n",
    "- For some slopes of the demand and supply curves, the equilibrium can be reached.\n",
    "\n",
    "\n",
    "\n",
    "The assumption that supply must equal demand can be relaxed, as in the case of the market model with inventory. \n",
    "\n",
    "\n",
    "- Since supply reacts with a one–period lag to market prices, producers have an inventory to meet unexpected demand.\n",
    "\n",
    "\n",
    "These models are presented to illustrate the use of first-order difference equations in economic analysis, following Gandolfo (2010), Chiang (2005) and Pashigian (2008)."
   ]
  },
  {
   "cell_type": "markdown",
   "metadata": {},
   "source": [
    "## Cobweb model"
   ]
  },
  {
   "cell_type": "markdown",
   "metadata": {},
   "source": [
    "The cobweb model is based on a time lag between supply and demand decisions.\n",
    "\n",
    "\n",
    "- Producer’s output decision must be made one period in advance; suppose that producers go to market with an unusually small production. \n",
    "\n",
    "\n",
    "- This shortage results in high prices and if producers expect these high price conditions to continue in the following period, they will raise the production and, as a result, prices decrease. \n",
    "\n",
    "- If low prices are expected to continue, producers will decrease the production, resulting again in higher prices. \n",
    "\n",
    "- Thus, oscillating between periods of low supply with high prices and high supply with low prices, the set price-quantity traces out a spiral. \n",
    "\n",
    "- This set may spiral inwards and the economy converges to the equilibrium or it may spiral outwards and the economy diverges since the fluctuations increase in magnitude: \n",
    "\n",
    " - there is convergence if the supply curve is steeper than the demand curve, and vice versa."
   ]
  },
  {
   "cell_type": "code",
   "execution_count": null,
   "metadata": {
    "collapsed": true
   },
   "outputs": [],
   "source": []
  },
  {
   "cell_type": "code",
   "execution_count": null,
   "metadata": {
    "collapsed": true
   },
   "outputs": [],
   "source": []
  },
  {
   "cell_type": "code",
   "execution_count": null,
   "metadata": {
    "collapsed": true
   },
   "outputs": [],
   "source": []
  },
  {
   "cell_type": "code",
   "execution_count": null,
   "metadata": {
    "collapsed": true
   },
   "outputs": [],
   "source": []
  },
  {
   "cell_type": "code",
   "execution_count": null,
   "metadata": {
    "collapsed": true
   },
   "outputs": [],
   "source": []
  },
  {
   "cell_type": "code",
   "execution_count": null,
   "metadata": {
    "collapsed": true
   },
   "outputs": [],
   "source": []
  },
  {
   "cell_type": "code",
   "execution_count": null,
   "metadata": {
    "collapsed": true
   },
   "outputs": [],
   "source": []
  },
  {
   "cell_type": "code",
   "execution_count": null,
   "metadata": {
    "collapsed": true
   },
   "outputs": [],
   "source": []
  }
 ],
 "metadata": {
  "kernelspec": {
   "display_name": "Python 3",
   "language": "python",
   "name": "python3"
  },
  "language_info": {
   "codemirror_mode": {
    "name": "ipython",
    "version": 3
   },
   "file_extension": ".py",
   "mimetype": "text/x-python",
   "name": "python",
   "nbconvert_exporter": "python",
   "pygments_lexer": "ipython3",
   "version": "3.6.2"
  }
 },
 "nbformat": 4,
 "nbformat_minor": 2
}
