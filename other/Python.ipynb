{
 "cells": [
  {
   "cell_type": "code",
   "execution_count": null,
   "metadata": {
    "collapsed": true
   },
   "outputs": [],
   "source": []
  },
  {
   "cell_type": "code",
   "execution_count": null,
   "metadata": {
    "collapsed": true
   },
   "outputs": [],
   "source": []
  },
  {
   "cell_type": "markdown",
   "metadata": {},
   "source": [
    "## Python\n",
    "\n",
    "\n",
    "### A Crash Course in Python for Scientists\n",
    "\n",
    "http://nbviewer.ipython.org/5920182#ii.-numpy-and-scipy\n",
    "\n",
    "\n",
    "http://nbviewer.jupyter.org/github/jrjohansson/scientific-python-lectures/blob/master/Lecture-2-Numpy.ipynb"
   ]
  },
  {
   "cell_type": "markdown",
   "metadata": {},
   "source": [
    "## Numpy \n",
    "\n",
    "\n",
    "http://docs.scipy.org/doc/numpy/reference/\n",
    "\n",
    "A tutorial\n",
    "\n",
    "http://wiki.scipy.org/Tentative_NumPy_Tutorial\n",
    "\n",
    "http://nbviewer.ipython.org/urls/raw.github.com/jrjohansson/scientific-python-lectures/master/Lecture-2-Numpy.ipynb\n",
    "\n",
    "http://scipy-lectures.github.io/advanced/advanced_numpy/index.html\n",
    "\n",
    "https://github.com/stefanv/teaching/blob/master/2016_aspp_reading_numpy/numpy_advanced.ipynb"
   ]
  },
  {
   "cell_type": "markdown",
   "metadata": {},
   "source": [
    "##  Scipy\n",
    "\n",
    "http://scipy-lectures.github.io/\n",
    "\n",
    "\n",
    "The reference\n",
    "\n",
    "http://docs.scipy.org/doc/numpy/reference/index.html\n",
    "\n",
    "\n",
    "Scientific Python Lectures - Lecture 2: Numpy\n",
    "\n",
    "https://github.com/jrjohansson/scientific-python-lectures\n",
    "\n",
    "Numerical Methods using Python (scipy)\n",
    "https://www.southampton.ac.uk/~fangohr/teaching/python/book/html/16-scipy.html\n",
    "\n",
    "Python Scientific Lecture Notes\n",
    "\n",
    "https://github.com/scipy-lectures/scipy-lecture-notes/\n",
    "\n",
    "http://scipy-lectures.github.io/intro/numpy/index.html\n",
    "\n",
    "\n",
    "\n",
    "a beginner-level introduction to scientific computing with Python, IPython, NumPy, SciPy and Matplotlib: \n",
    "\n",
    "http://ipython-books.github.io/minibook/\n",
    "\n",
    "\n"
   ]
  },
  {
   "cell_type": "markdown",
   "metadata": {},
   "source": [
    "## Sympy\n",
    "\n",
    "https://github.com/ipython/ipython/blob/master/examples/IPython%20Kernel/SymPy.ipynb\n"
   ]
  },
  {
   "cell_type": "markdown",
   "metadata": {},
   "source": [
    "## Pylab: plotting\n",
    "http://jakevdp.github.io/mpl_tutorial/tutorial_pages/tut1.html"
   ]
  },
  {
   "cell_type": "code",
   "execution_count": null,
   "metadata": {
    "collapsed": true
   },
   "outputs": [],
   "source": []
  }
 ],
 "metadata": {
  "kernelspec": {
   "display_name": "Python 3",
   "language": "python",
   "name": "python3"
  },
  "language_info": {
   "codemirror_mode": {
    "name": "ipython",
    "version": 3
   },
   "file_extension": ".py",
   "mimetype": "text/x-python",
   "name": "python",
   "nbconvert_exporter": "python",
   "pygments_lexer": "ipython3",
   "version": "3.5.2"
  }
 },
 "nbformat": 4,
 "nbformat_minor": 1
}
