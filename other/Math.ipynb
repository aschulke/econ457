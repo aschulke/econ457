{
 "cells": [
  {
   "cell_type": "code",
   "execution_count": null,
   "metadata": {
    "collapsed": true
   },
   "outputs": [],
   "source": []
  },
  {
   "cell_type": "code",
   "execution_count": null,
   "metadata": {
    "collapsed": true
   },
   "outputs": [],
   "source": []
  },
  {
   "cell_type": "markdown",
   "metadata": {},
   "source": [
    "## Math \n",
    "\n",
    "\n",
    "\n",
    "* A Primer on Scientific Programming in Python, H.P. Langtangen https://hplgit.github.io/primer.html/doc/pub/half/book.pdf\n",
    "   * https://github.com/hplgit/scipro-primer\n",
    "* Practical Applied Mathematics, Sam Howison\n",
    "( https://people.maths.ox.ac.uk/fowler/courses/tech/sdh.pdf )\n",
    "\n",
    "* https://www.inferentialthinking.com/chapters/01/1/1/computational-tools.html\n",
    "\n",
    "\n",
    "\n",
    "* https://github.com/StuartGordonReid/Python-Notebooks/blob/master/Stochastic%20Process%20Algorithms.ipynb\n"
   ]
  },
  {
   "cell_type": "markdown",
   "metadata": {
    "collapsed": true
   },
   "source": [
    "## Linear Algebra\n",
    "\n",
    "\n",
    "### Gaussian elimination\n",
    "https://github.com/birocoles/Disciplina-metodos-computacionais/blob/master/Content/gauss-elim-intro.ipynb\n",
    "https://nbviewer.jupyter.org/github/birocoles/Disciplina-metodos-computacionais/blob/master/Content/gauss-elim-pivoting.ipynb\n",
    "\n",
    "\n",
    "### Outer product\n",
    "https://github.com/birocoles/Disciplina-metodos-computacionais/blob/master/Content/outer.ipynb\n",
    "\n",
    "\n",
    "\n",
    "### FFT\n",
    "http://nbviewer.jupyter.org/url/jakevdp.github.io/downloads/notebooks/UnderstandingTheFFT.ipynb"
   ]
  },
  {
   "cell_type": "code",
   "execution_count": null,
   "metadata": {
    "collapsed": true
   },
   "outputs": [],
   "source": []
  },
  {
   "cell_type": "markdown",
   "metadata": {},
   "source": [
    "## Math in Julia\n",
    "\n",
    "http://www.maths.usyd.edu.au/u/olver/teaching/MATH3976/\n",
    "\n",
    "MATH3076/3976 Mathematical Computing\n",
    "\n",
    "\n",
    "http://homerreid.dyndns.org/teaching/18.330/"
   ]
  },
  {
   "cell_type": "code",
   "execution_count": null,
   "metadata": {
    "collapsed": true
   },
   "outputs": [],
   "source": []
  },
  {
   "cell_type": "code",
   "execution_count": null,
   "metadata": {
    "collapsed": true
   },
   "outputs": [],
   "source": []
  },
  {
   "cell_type": "code",
   "execution_count": null,
   "metadata": {
    "collapsed": true
   },
   "outputs": [],
   "source": []
  },
  {
   "cell_type": "code",
   "execution_count": null,
   "metadata": {
    "collapsed": true
   },
   "outputs": [],
   "source": []
  }
 ],
 "metadata": {
  "kernelspec": {
   "display_name": "Python 3",
   "language": "python",
   "name": "python3"
  },
  "language_info": {
   "codemirror_mode": {
    "name": "ipython",
    "version": 3
   },
   "file_extension": ".py",
   "mimetype": "text/x-python",
   "name": "python",
   "nbconvert_exporter": "python",
   "pygments_lexer": "ipython3",
   "version": "3.5.2"
  }
 },
 "nbformat": 4,
 "nbformat_minor": 1
}
