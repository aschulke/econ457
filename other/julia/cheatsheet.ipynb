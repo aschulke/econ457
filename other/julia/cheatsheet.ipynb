{
 "cells": [
  {
   "cell_type": "markdown",
   "metadata": {},
   "source": [
    "# Printing"
   ]
  },
  {
   "cell_type": "code",
   "execution_count": 38,
   "metadata": {
    "collapsed": false
   },
   "outputs": [
    {
     "name": "stdout",
     "output_type": "stream",
     "text": [
      "hibye\n"
     ]
    }
   ],
   "source": [
    "print(\"hi\")    # print the word \"hi\"\n",
    "println(\"bye\") # print \"bye\" followed by a new line"
   ]
  },
  {
   "cell_type": "markdown",
   "metadata": {},
   "source": [
    "# Types"
   ]
  },
  {
   "cell_type": "code",
   "execution_count": null,
   "metadata": {
    "collapsed": true
   },
   "outputs": [],
   "source": [
    "typeof(52.0)  # Returns the type of a variable/number, in this case Float64"
   ]
  },
  {
   "cell_type": "markdown",
   "metadata": {},
   "source": [
    "Types can be created using the type keyword, created by a function call of the same name and fields accessed by .:"
   ]
  },
  {
   "cell_type": "code",
   "execution_count": 16,
   "metadata": {
    "collapsed": false
   },
   "outputs": [
    {
     "data": {
      "text/plain": [
       "MyNewType(1.0,3)"
      ]
     },
     "execution_count": 16,
     "metadata": {},
     "output_type": "execute_result"
    }
   ],
   "source": [
    "# Create a new type called MyNewType\n",
    "type MyNewType\n",
    "    field1::Float64\n",
    "    field2::Int\n",
    "end\n",
    "\n",
    "# Instantiate a variable of type MyNewType\n",
    "m=MyNewType(1.0,3)\n",
    "\n",
    "m.field1   # access field1, which is 1.0\n",
    "m.field2   # access field2, which is 3\n",
    "\n",
    "m.field1=5.5  # set field1 to 5.5\n",
    "m.field2=4    # set field2 to 4\n",
    "\n",
    "\n",
    "n=copy(m)   # copies the data from m to a new MyNewType called n"
   ]
  },
  {
   "cell_type": "markdown",
   "metadata": {},
   "source": [
    "Abstract types are created with abstract:"
   ]
  },
  {
   "cell_type": "code",
   "execution_count": 39,
   "metadata": {
    "collapsed": true
   },
   "outputs": [],
   "source": [
    "abstract MyAbstractType\n",
    "\n",
    "type MySubType <: MyAbstractType\n",
    "    ff\n",
    "end"
   ]
  },
  {
   "cell_type": "markdown",
   "metadata": {},
   "source": [
    "`<:` is used to test if a type is a subtype of an abstract type:"
   ]
  },
  {
   "cell_type": "code",
   "execution_count": 40,
   "metadata": {
    "collapsed": false
   },
   "outputs": [
    {
     "data": {
      "text/plain": [
       "true"
      ]
     },
     "execution_count": 40,
     "metadata": {},
     "output_type": "execute_result"
    }
   ],
   "source": [
    "MySubType <: MyAbstractType  # true\n",
    "MySubType <: Number  # false\n",
    "MySUbType <: Any  # true, as all types are <: Any"
   ]
  },
  {
   "cell_type": "markdown",
   "metadata": {},
   "source": [
    "The super type can be found using `super`:"
   ]
  },
  {
   "cell_type": "code",
   "execution_count": null,
   "metadata": {
    "collapsed": true
   },
   "outputs": [],
   "source": [
    "super(Int32)  # returns Signed, which represents all signed integers.\n",
    "super(Int64)  # returns Signed\n",
    "super(Float32) # returns AbstractFloat"
   ]
  },
  {
   "cell_type": "markdown",
   "metadata": {},
   "source": [
    "# Functions\n",
    "\n",
    "New functions can be created using the `function` keyword.  The same function can be defined for different argument types:"
   ]
  },
  {
   "cell_type": "code",
   "execution_count": null,
   "metadata": {
    "collapsed": true
   },
   "outputs": [],
   "source": [
    "function mydot(a::Integer,b::Integer)\n",
    "    a*b\n",
    "end\n",
    "\n",
    "function mydot(a::Vector,b::Vector)\n",
    "    # we assume length(a)  == length(b)\n",
    "    ret=0\n",
    "    for k=1:length(a)\n",
    "        ret=ret+a[k]*b[k]\n",
    "    end\n",
    "    ret\n",
    "end\n",
    "\n",
    "\n",
    "f(x) = x^2  # Shorthand notation for defining a function call f\n",
    "\n",
    "\n",
    "f = x->x^2  # Anonyomous function\n",
    "\n",
    "f = x->begin\n",
    "    a=x^2\n",
    "    a^2\n",
    "end"
   ]
  },
  {
   "cell_type": "markdown",
   "metadata": {},
   "source": [
    "Functions can be created that take in a variable number of arguments.  In this case, the input is a `Tuple`:"
   ]
  },
  {
   "cell_type": "code",
   "execution_count": 12,
   "metadata": {
    "collapsed": false
   },
   "outputs": [
    {
     "ename": "LoadError",
     "evalue": "LoadError: MethodError: `varlengthg` has no method matching varlengthg(::Int64)\nClosest candidates are:\n  varlengthg(::Any, !Matched::Any, !Matched::Any...)\nwhile loading In[12], in expression starting on line 10",
     "output_type": "error",
     "traceback": [
      "LoadError: MethodError: `varlengthg` has no method matching varlengthg(::Int64)\nClosest candidates are:\n  varlengthg(::Any, !Matched::Any, !Matched::Any...)\nwhile loading In[12], in expression starting on line 10",
      ""
     ]
    }
   ],
   "source": [
    "function varlengthg(x,y,z...)\n",
    "    # z is a Tuple, while x and y are normal variables\n",
    "    if length(z) == 0\n",
    "        (x,y)\n",
    "    else\n",
    "        z\n",
    "    end\n",
    "end\n",
    "\n",
    "varlengthg(1)  # need at least an x and a y"
   ]
  },
  {
   "cell_type": "code",
   "execution_count": 13,
   "metadata": {
    "collapsed": false
   },
   "outputs": [
    {
     "data": {
      "text/plain": [
       "(1,4.0)"
      ]
     },
     "execution_count": 13,
     "metadata": {},
     "output_type": "execute_result"
    }
   ],
   "source": [
    "varlengthg(1,4.0)"
   ]
  },
  {
   "cell_type": "code",
   "execution_count": 14,
   "metadata": {
    "collapsed": false
   },
   "outputs": [
    {
     "data": {
      "text/plain": [
       "(6.0,7.0,8)"
      ]
     },
     "execution_count": 14,
     "metadata": {},
     "output_type": "execute_result"
    }
   ],
   "source": [
    "varlengthg(1,4.0,6.0,7.0,8)"
   ]
  },
  {
   "cell_type": "markdown",
   "metadata": {},
   "source": [
    "# Numbers\n",
    "\n",
    "There are many different inbuilt types of numbers in Julia:"
   ]
  },
  {
   "cell_type": "code",
   "execution_count": 6,
   "metadata": {
    "collapsed": false
   },
   "outputs": [],
   "source": [
    "Int32          # A 32-bit integer\n",
    "Int64          # A 64-bit integer\n",
    "Int            # Equivalent to Int32 or Int64, depending on the machine\n",
    "UInt32         # An unsigned 32-bit integer.  Default displayed in hexadecimal format\n",
    "UInt64         # An unsigned 32-bit integer.  Default displayed in hexadecimal format\n",
    "Float32        # A 32-bit float\n",
    "Float64        # A 64-bit float\n",
    "BigFloat       # A Type that represents larger precision floating point numbers"
   ]
  },
  {
   "cell_type": "markdown",
   "metadata": {},
   "source": [
    "Here are some basic routines:"
   ]
  },
  {
   "cell_type": "code",
   "execution_count": null,
   "metadata": {
    "collapsed": true
   },
   "outputs": [],
   "source": [
    "bits(52)       # Returns the bits of a number as a String\n",
    "typemax(Int64) # Returns the maximum number in a given type\n",
    "typemin(Int64) # Returns the smallest number in a given type, typically a very large negative number"
   ]
  },
  {
   "cell_type": "markdown",
   "metadata": {},
   "source": [
    "When possible, a number can be converted from one type to another:"
   ]
  },
  {
   "cell_type": "code",
   "execution_count": 18,
   "metadata": {
    "collapsed": false
   },
   "outputs": [
    {
     "data": {
      "text/plain": [
       "5.0"
      ]
     },
     "execution_count": 18,
     "metadata": {},
     "output_type": "execute_result"
    }
   ],
   "source": [
    "UInt64(5)     # Returns a UInt64 that equals 5\n",
    "Float64(5)    # Returns 5.0"
   ]
  },
  {
   "cell_type": "markdown",
   "metadata": {},
   "source": [
    "When not possible it throws an error:"
   ]
  },
  {
   "cell_type": "code",
   "execution_count": null,
   "metadata": {
    "collapsed": true
   },
   "outputs": [],
   "source": [
    "Int64(5.5)   # Throws an InexactError since 5.5 can't be represented as an Int\n",
    "UInt64(-5)   # Throws an InexactError"
   ]
  },
  {
   "cell_type": "markdown",
   "metadata": {},
   "source": [
    "Instead, use `round`:"
   ]
  },
  {
   "cell_type": "code",
   "execution_count": 21,
   "metadata": {
    "collapsed": false
   },
   "outputs": [
    {
     "data": {
      "text/plain": [
       "6"
      ]
     },
     "execution_count": 21,
     "metadata": {},
     "output_type": "execute_result"
    }
   ],
   "source": [
    "round(Int64,5.5)   # Return 6"
   ]
  },
  {
   "cell_type": "code",
   "execution_count": 53,
   "metadata": {
    "collapsed": false
   },
   "outputs": [
    {
     "data": {
      "text/plain": [
       "36"
      ]
     },
     "execution_count": 53,
     "metadata": {},
     "output_type": "execute_result"
    }
   ],
   "source": [
    "mod(5,4)    # 5 mod 4, returns 1 \n",
    "gcd(12,9)   # greatest commond divsor, in this case 3\n",
    "lcm(12,9)   # least common multiple, in this case 36"
   ]
  },
  {
   "cell_type": "code",
   "execution_count": 66,
   "metadata": {
    "collapsed": false
   },
   "outputs": [
    {
     "data": {
      "text/plain": [
       "2"
      ]
     },
     "execution_count": 66,
     "metadata": {},
     "output_type": "execute_result"
    }
   ],
   "source": [
    "x=5\n",
    "inv(x)  # Equivalent to 1/x, in this case promotes to Float64\n",
    "div(x,2)  # x/2 truncated to an  integer"
   ]
  },
  {
   "cell_type": "code",
   "execution_count": 63,
   "metadata": {
    "collapsed": false
   },
   "outputs": [
    {
     "data": {
      "text/plain": [
       "0.04"
      ]
     },
     "execution_count": 63,
     "metadata": {},
     "output_type": "execute_result"
    }
   ],
   "source": [
    "x=UInt64(25)\n",
    "x << 3  # Shift the bits of x left by three, equivalent to 2^3x\n",
    "x >> 3  # Shift the bits of x left by three, equivalent to div(x,2^3)"
   ]
  },
  {
   "cell_type": "markdown",
   "metadata": {},
   "source": [
    "# Floating point arithmetic"
   ]
  },
  {
   "cell_type": "code",
   "execution_count": 27,
   "metadata": {
    "collapsed": false
   },
   "outputs": [
    {
     "data": {
      "text/plain": [
       "-Inf"
      ]
     },
     "execution_count": 27,
     "metadata": {},
     "output_type": "execute_result"
    }
   ],
   "source": [
    "exponent(100.3)     # Returns the exponent in floating point representation\n",
    "significand(100.3)  # Returns the significand\n",
    "realmin(Float64)    # Returns the smallest normal number\n",
    "realmax(Float64)    # Returns the largest normal number"
   ]
  },
  {
   "cell_type": "markdown",
   "metadata": {},
   "source": [
    "Special numbers"
   ]
  },
  {
   "cell_type": "code",
   "execution_count": 28,
   "metadata": {
    "collapsed": false
   },
   "outputs": [
    {
     "data": {
      "text/plain": [
       "-Inf"
      ]
     },
     "execution_count": 28,
     "metadata": {},
     "output_type": "execute_result"
    }
   ],
   "source": [
    "Inf                 # Represents positive Infinity\n",
    "-Inf                # Represents positive Infinity\n",
    "NaN                 # Represents not a number"
   ]
  },
  {
   "cell_type": "markdown",
   "metadata": {},
   "source": [
    "# Vectors\n",
    "\n",
    "Vectors can be created in many ways:"
   ]
  },
  {
   "cell_type": "code",
   "execution_count": null,
   "metadata": {
    "collapsed": true
   },
   "outputs": [],
   "source": [
    "v=[11,24,32]          # Create a Vector whose entries are Int\n",
    "v=[1.0,1,\"1\"]         # Creates a Vector whose entries are Any\n",
    "v=Float64[11,24,32]   # Create a Vector whose entries are Float64\n",
    "v=rand(5)             # Creates a random Float64 Vector of length 5\n",
    "v=zero(5)             # Creates a zero Float64 Vector\n",
    "v=zero(Int64,5)       # Creates a zero Int64 Vector\n",
    "v=ones(5)             # Creates a Float64 Vector of all ones\n",
    "v=ones(Int64,5)       # Creates a Int64 Vector of all ones\n",
    "v=Float64[k^2 for k=1:5]  # Creates the vector [1.0,4.0,9.0,16.0,25.0]\n",
    "\n",
    "\n",
    "v[2]=5  # Change second entry to 5\n",
    "\n",
    "eltype(v)   # Returns the type of the entries of a Vector\n",
    "length(v)   # Returns the number of entries of v"
   ]
  },
  {
   "cell_type": "markdown",
   "metadata": {},
   "source": [
    "Arithmetic can be done on vectors:"
   ]
  },
  {
   "cell_type": "code",
   "execution_count": null,
   "metadata": {
    "collapsed": true
   },
   "outputs": [],
   "source": [
    "v=rand(5);w=rand(5)\n",
    "\n",
    "v+w       # add two vectors\n",
    "v-w       # subtract two vectors\n",
    "v.*w      # entrywise multiplication\n",
    "dot(v,w)  # dot product"
   ]
  },
  {
   "cell_type": "code",
   "execution_count": 45,
   "metadata": {
    "collapsed": false
   },
   "outputs": [
    {
     "data": {
      "text/plain": [
       "0.1382003693809959"
      ]
     },
     "execution_count": 45,
     "metadata": {},
     "output_type": "execute_result"
    }
   ],
   "source": [
    "v=rand(5)\n",
    "norm(v)   # 2-norm of v\n",
    "norm(v,1) # 1-norm of v\n",
    "norm(v,Inf)  # ∞-norm of v\n",
    "maximum(v)   # maximum entry\n",
    "minimum(v)   # minimum entry\n",
    "maximum(abs(v))  # equivalent to ∞-norm"
   ]
  },
  {
   "cell_type": "markdown",
   "metadata": {},
   "source": [
    "# Tuples"
   ]
  },
  {
   "cell_type": "code",
   "execution_count": 58,
   "metadata": {
    "collapsed": false
   },
   "outputs": [
    {
     "data": {
      "text/plain": [
       "(2.0,1)"
      ]
     },
     "execution_count": 58,
     "metadata": {},
     "output_type": "execute_result"
    }
   ],
   "source": [
    "(1,2.0,\"hi\") # A Tuple{Int,Float64,ASCIIString}\n",
    "\n",
    "\n",
    "(x,y)=(1,2.0)  # set x to 1 and y to 2.0 simeultaneously\n",
    "(x,y)=(y,x)    # swap x and y"
   ]
  },
  {
   "cell_type": "markdown",
   "metadata": {},
   "source": [
    "# Ranges\n",
    "\n",
    "Ranges are AbstractVector's defined using an initial point and endpoint, with an optional step in the middle:"
   ]
  },
  {
   "cell_type": "code",
   "execution_count": 43,
   "metadata": {
    "collapsed": false
   },
   "outputs": [
    {
     "data": {
      "text/plain": [
       "linspace(-1.0,1.0,5)"
      ]
     },
     "execution_count": 43,
     "metadata": {},
     "output_type": "execute_result"
    }
   ],
   "source": [
    "2:6     # Returns Range that represents to [2,3,4,5,6]\n",
    "2:3:6   # Returns Range that represents to [2,5]\n",
    "5:-1:2  # Returns Range that represents to [5,4,3,2]\n",
    "\n",
    "linspace(-1.,1.,5) # Represents a Range that divides -1. to 1., inclusive, into 5 evenly spaced points"
   ]
  },
  {
   "cell_type": "code",
   "execution_count": 44,
   "metadata": {
    "collapsed": false
   },
   "outputs": [
    {
     "data": {
      "text/plain": [
       "5-element Array{Float64,1}:\n",
       " -1.0\n",
       " -0.5\n",
       "  0.0\n",
       "  0.5\n",
       "  1.0"
      ]
     },
     "execution_count": 44,
     "metadata": {},
     "output_type": "execute_result"
    }
   ],
   "source": [
    "collect(2:3:6)  # Collect converts an AbstractVector to a Vector, in this case [2,5]\n",
    "collect(linspace(-1.,1.,5) )"
   ]
  },
  {
   "cell_type": "markdown",
   "metadata": {},
   "source": [
    "# For loops and while loops\n",
    "\n",
    "A for loop evaluates for every `k` in a given `AbstractVector`:"
   ]
  },
  {
   "cell_type": "code",
   "execution_count": 2,
   "metadata": {
    "collapsed": false
   },
   "outputs": [
    {
     "name": "stdout",
     "output_type": "stream",
     "text": [
      "10\n",
      "8\n",
      "6\n",
      "4\n",
      "2\n"
     ]
    }
   ],
   "source": [
    "for k=10:-2:1\n",
    "    println(k)\n",
    "end"
   ]
  },
  {
   "cell_type": "markdown",
   "metadata": {},
   "source": [
    " while loop evaluates until a condition is false:"
   ]
  },
  {
   "cell_type": "code",
   "execution_count": 3,
   "metadata": {
    "collapsed": false,
    "scrolled": true
   },
   "outputs": [
    {
     "name": "stdout",
     "output_type": "stream",
     "text": [
      "0\n",
      "1\n",
      "1\n",
      "2\n",
      "2\n",
      "2\n",
      "3\n",
      "4\n",
      "4\n",
      "5\n"
     ]
    }
   ],
   "source": [
    "k=0\n",
    "while k ≤ 5\n",
    "    println(k)\n",
    "    if rand() > 0.5\n",
    "        k+=1\n",
    "    end\n",
    "end"
   ]
  },
  {
   "cell_type": "markdown",
   "metadata": {},
   "source": [
    "# Map\n",
    "\n",
    "Map applies a function to each element in an AbstractArray:"
   ]
  },
  {
   "cell_type": "code",
   "execution_count": 3,
   "metadata": {
    "collapsed": false
   },
   "outputs": [
    {
     "data": {
      "text/plain": [
       "3-element Array{Float64,1}:\n",
       " 1.0\n",
       " 4.0\n",
       " 9.0"
      ]
     },
     "execution_count": 3,
     "metadata": {},
     "output_type": "execute_result"
    }
   ],
   "source": [
    "f=x->x^2\n",
    "\n",
    "map(f,[1.,2.,3.])"
   ]
  },
  {
   "cell_type": "markdown",
   "metadata": {},
   "source": [
    "When used for `Matrix`, it preserves the shape:"
   ]
  },
  {
   "cell_type": "code",
   "execution_count": 4,
   "metadata": {
    "collapsed": false
   },
   "outputs": [
    {
     "data": {
      "text/plain": [
       "2x2 Array{Float64,2}:\n",
       " 1.0   4.0\n",
       " 9.0  16.0"
      ]
     },
     "execution_count": 4,
     "metadata": {},
     "output_type": "execute_result"
    }
   ],
   "source": [
    "map(f,[1. 2.; 3. 4.])"
   ]
  },
  {
   "cell_type": "markdown",
   "metadata": {},
   "source": [
    "# Splat\n",
    "\n",
    "Splat takes a vector/tuple and \"splats\" it out to become arguments of a function:"
   ]
  },
  {
   "cell_type": "code",
   "execution_count": 5,
   "metadata": {
    "collapsed": false
   },
   "outputs": [
    {
     "data": {
      "text/plain": [
       "6.0"
      ]
     },
     "execution_count": 5,
     "metadata": {},
     "output_type": "execute_result"
    }
   ],
   "source": [
    "f=(x,y,z,w,t)->x+y+z\n",
    "v=[1.,2.,3.,4.,5.]\n",
    "f(v...)"
   ]
  },
  {
   "cell_type": "markdown",
   "metadata": {},
   "source": [
    "# Error messages\n",
    "\n",
    "Julia will throw (almost incomprehensible) error messages when things go wrong.  Here are some common examples:\n",
    "\n",
    "_BoundsError_: An array was accessed outside its length/size"
   ]
  },
  {
   "cell_type": "code",
   "execution_count": 4,
   "metadata": {
    "collapsed": false
   },
   "outputs": [
    {
     "ename": "LoadError",
     "evalue": "LoadError: BoundsError: attempt to access 2-element Array{Int64,1}:\n 1\n 2\n  at index [3]\nwhile loading In[4], in expression starting on line 2",
     "output_type": "error",
     "traceback": [
      "LoadError: BoundsError: attempt to access 2-element Array{Int64,1}:\n 1\n 2\n  at index [3]\nwhile loading In[4], in expression starting on line 2",
      "",
      " in getindex at array.jl:282"
     ]
    }
   ],
   "source": [
    "r=[1,2]\n",
    "r[3]     # an error is thrown since r only has two elements"
   ]
  },
  {
   "cell_type": "markdown",
   "metadata": {},
   "source": [
    "_DomainError_: A function was called on inputs where the return value is not defined, usually to ensure type inference"
   ]
  },
  {
   "cell_type": "code",
   "execution_count": 9,
   "metadata": {
    "collapsed": false
   },
   "outputs": [
    {
     "ename": "LoadError",
     "evalue": "LoadError: DomainError:\nsqrt will only return a complex result if called with a complex argument. Try sqrt(complex(x)).\nwhile loading In[9], in expression starting on line 1",
     "output_type": "error",
     "traceback": [
      "LoadError: DomainError:\nsqrt will only return a complex result if called with a complex argument. Try sqrt(complex(x)).\nwhile loading In[9], in expression starting on line 1",
      "",
      " in sqrt at math.jl:146"
     ]
    }
   ],
   "source": [
    "sqrt(-1)   # sqrt is not defined for negative real numbers, but is defined for all complex numbers: sqrt(-1+0im)"
   ]
  },
  {
   "cell_type": "markdown",
   "metadata": {},
   "source": [
    "_InexactError_: The type being set doesn't match the type required"
   ]
  },
  {
   "cell_type": "code",
   "execution_count": 8,
   "metadata": {
    "collapsed": false
   },
   "outputs": [
    {
     "ename": "LoadError",
     "evalue": "LoadError: InexactError()\nwhile loading In[8], in expression starting on line 2",
     "output_type": "error",
     "traceback": [
      "LoadError: InexactError()\nwhile loading In[8], in expression starting on line 2",
      "",
      " in setindex! at array.jl:313"
     ]
    }
   ],
   "source": [
    "r=[1,2]\n",
    "r[1]=2.5  # r initially only has ints, so is created as a Vector{Int}.  Therefore an entry cannot be set to a Float"
   ]
  },
  {
   "cell_type": "markdown",
   "metadata": {},
   "source": [
    "_StackOverflowError_: There were too many function calls buried, usually due to an infinite cycle"
   ]
  },
  {
   "cell_type": "code",
   "execution_count": 13,
   "metadata": {
    "collapsed": false
   },
   "outputs": [
    {
     "ename": "LoadError",
     "evalue": "LoadError: StackOverflowError:\nwhile loading In[13], in expression starting on line 2",
     "output_type": "error",
     "traceback": [
      "LoadError: StackOverflowError:\nwhile loading In[13], in expression starting on line 2",
      ""
     ]
    }
   ],
   "source": [
    "f(x)=f(x)^2    \n",
    "f(1) # This calls f an infinite number of times.  At some point the \"Stack\" runs out of memory and Julia gives up."
   ]
  },
  {
   "cell_type": "markdown",
   "metadata": {},
   "source": [
    "_LoadError: MethodError:_ This means a function is not defined.  A common source of this error is using a function name as a variable name:"
   ]
  },
  {
   "cell_type": "code",
   "execution_count": 2,
   "metadata": {
    "collapsed": false
   },
   "outputs": [
    {
     "ename": "LoadError",
     "evalue": "LoadError: MethodError: `call` has no method matching call(::Float64, ::Array{Int64,1})\nClosest candidates are:\n  BoundsError()\n  BoundsError(!Matched::Any...)\n  DivideError()\n  ...\nwhile loading In[2], in expression starting on line 2",
     "output_type": "error",
     "traceback": [
      "LoadError: MethodError: `call` has no method matching call(::Float64, ::Array{Int64,1})\nClosest candidates are:\n  BoundsError()\n  BoundsError(!Matched::Any...)\n  DivideError()\n  ...\nwhile loading In[2], in expression starting on line 2",
      ""
     ]
    }
   ],
   "source": [
    "norm=5.0\n",
    "norm([1,2,3])"
   ]
  },
  {
   "cell_type": "markdown",
   "metadata": {},
   "source": [
    "`LoadError: UndefVarError:`  This means a variable was never defined.  A common source of error is when a variable is defined in a different \"scope\".  In the example below, x is created locally inside the for loop, so doesn't exists afterward:"
   ]
  },
  {
   "cell_type": "code",
   "execution_count": 16,
   "metadata": {
    "collapsed": false
   },
   "outputs": [
    {
     "ename": "LoadError",
     "evalue": "LoadError: UndefVarError: x not defined\nwhile loading In[16], in expression starting on line 4",
     "output_type": "error",
     "traceback": [
      "LoadError: UndefVarError: x not defined\nwhile loading In[16], in expression starting on line 4",
      ""
     ]
    }
   ],
   "source": [
    "for k=1:10\n",
    "    x=5\n",
    "end\n",
    "x"
   ]
  },
  {
   "cell_type": "markdown",
   "metadata": {},
   "source": [
    "To avoid this error, create the variable first and then it uses the outer scope `x`:"
   ]
  },
  {
   "cell_type": "code",
   "execution_count": 17,
   "metadata": {
    "collapsed": false
   },
   "outputs": [
    {
     "data": {
      "text/plain": [
       "5"
      ]
     },
     "execution_count": 17,
     "metadata": {},
     "output_type": "execute_result"
    }
   ],
   "source": [
    "x=0\n",
    "for k=1:10\n",
    "    x=5\n",
    "end\n",
    "x"
   ]
  },
  {
   "cell_type": "markdown",
   "metadata": {},
   "source": [
    "# Warnings\n",
    "\n",
    "There are many warnings that can be displayed.  The most common case is _deprecation_, where a feature that currently works will be disabled in the future.  Here are some examples:"
   ]
  },
  {
   "cell_type": "code",
   "execution_count": 1,
   "metadata": {
    "collapsed": false
   },
   "outputs": [
    {
     "name": "stderr",
     "output_type": "stream",
     "text": [
      "WARNING: Indexing with non-Integer Reals is deprecated.  It may be that your index arose from an integer division of the form i/j, in which case you should consider using i÷j or div(i,j) instead.\n",
      " in depwarn at deprecated.jl:73\n",
      " in to_index at deprecated.jl:447\n",
      " in setindex! at array.jl:313\n",
      " in include_string at loading.jl:282\n",
      " in execute_request_0x535c5df2 at /Users/solver/.julia/v0.4/IJulia/src/execute_request.jl:182\n",
      " in eventloop at /Users/solver/.julia/v0.4/IJulia/src/IJulia.jl:142\n",
      " in anonymous at task.jl:447\n",
      "while loading In[1], in expression starting on line 2\n"
     ]
    },
    {
     "data": {
      "text/plain": [
       "5"
      ]
     },
     "execution_count": 1,
     "metadata": {},
     "output_type": "execute_result"
    }
   ],
   "source": [
    "r=[1,2]\n",
    "r[2/2]=5    # 2/2 returns a Float, and in the future arrays will only be accessible with ints.  Use div instead of /"
   ]
  },
  {
   "cell_type": "code",
   "execution_count": 2,
   "metadata": {
    "collapsed": false
   },
   "outputs": [
    {
     "name": "stderr",
     "output_type": "stream",
     "text": [
      "WARNING: [a,b] concatenation is deprecated; use [a;b] instead\n",
      " in depwarn at deprecated.jl:73\n",
      " in oldstyle_vcat_warning at /Users/solver/Projects/julia/usr/lib/julia/sys.dylib\n",
      " in vect at abstractarray.jl:32\n",
      " in include_string at loading.jl:282\n",
      " in execute_request_0x535c5df2 at /Users/solver/.julia/v0.4/IJulia/src/execute_request.jl:182\n",
      " in eventloop at /Users/solver/.julia/v0.4/IJulia/src/IJulia.jl:142\n",
      " in anonymous at task.jl:447\n",
      "while loading In[2], in expression starting on line 3\n"
     ]
    },
    {
     "data": {
      "text/plain": [
       "6-element Array{Int64,1}:\n",
       " 1\n",
       " 2\n",
       " 3\n",
       " 4\n",
       " 5\n",
       " 6"
      ]
     },
     "execution_count": 2,
     "metadata": {},
     "output_type": "execute_result"
    }
   ],
   "source": [
    "a=[1,2,3]\n",
    "b=[4,5,6]\n",
    "[a,b]      # Right now ',' concatenates vectors.  In the future, this will return a Vector{Vector{Int}}.\n",
    "           # Use ';' instead of ',' to concatenate"
   ]
  },
  {
   "cell_type": "markdown",
   "metadata": {},
   "source": [
    "# Matrices"
   ]
  },
  {
   "cell_type": "code",
   "execution_count": 36,
   "metadata": {
    "collapsed": false
   },
   "outputs": [
    {
     "data": {
      "text/plain": [
       "6x5 Array{Int64,2}:\n",
       "  2   3   4   5   6\n",
       "  5   6   7   8   9\n",
       " 10  11  12  13  14\n",
       " 17  18  19  20  21\n",
       " 26  27  28  29  30\n",
       " 37  38  39  40  41"
      ]
     },
     "execution_count": 36,
     "metadata": {},
     "output_type": "execute_result"
    }
   ],
   "source": [
    "zeros(5,5)         # Creates a 5x5 matrix of Float64 zeros\n",
    "zeros(Int64,5,5)   # Creates a 5x5 matrix of Int64 zeros\n",
    "eye(5)             # Creates a 5x5 identity matrix of type Float64\n",
    "eye(Int64,5)       # Creates a 5x5 identity matrix of type Int64\n",
    "Int64[k^2+j for k=1:6,j=1:5]  # Creates a 6x5 matrix of type Int64 with the specified entries"
   ]
  },
  {
   "cell_type": "code",
   "execution_count": null,
   "metadata": {
    "collapsed": true
   },
   "outputs": [],
   "source": [
    "M=[1 2; 3 4; 5 6]  # Creates a 3 x 2 matrix\n",
    "vec(M)             # Converts M to a Vector of size 3*2=6\n",
    "size(M)            # Returns the tuple (3,2) containing the size of M\n",
    "size(M,1)          # Returns the number of rows: 3\n",
    "size(M,2)          # Returns the number of columns: 2"
   ]
  },
  {
   "cell_type": "code",
   "execution_count": null,
   "metadata": {
    "collapsed": true
   },
   "outputs": [],
   "source": [
    "M=rand(3,3)\n",
    "N=rand(3,4)\n",
    "L=rand(3,3)\n",
    "det(M)  # Calculate the determinant of M\n",
    "M*N     # The matrix multiplication of M and N\n",
    "M.*N    # Entrywise multiplication of M and N\n",
    "\n",
    "b=ones(3)\n",
    "u=M\\b   # solve M*u=b\n",
    "u=N\\b   # minimizes norm(N*u-b,2)\n",
    "\n",
    "M'     # Conugate transpose of M, which is transpose on real matrice\n",
    "M.'    #  Transpose of M"
   ]
  },
  {
   "cell_type": "code",
   "execution_count": 46,
   "metadata": {
    "collapsed": false
   },
   "outputs": [
    {
     "data": {
      "text/plain": [
       "5x5 Array{Float64,2}:\n",
       " 0.472744   0.0         0.0        0.0       0.0     \n",
       " 0.0826164  0.761681    0.0        0.0       0.0     \n",
       " 0.193172   0.049155    0.184043   0.0       0.0     \n",
       " 0.374569   0.406991    0.0359636  0.14504   0.0     \n",
       " 0.0256743  0.00554313  0.520697   0.591943  0.448798"
      ]
     },
     "execution_count": 46,
     "metadata": {},
     "output_type": "execute_result"
    }
   ],
   "source": [
    "M=rand(5,5)\n",
    "triu(M)  # Upper triangular half of M\n",
    "tril(M)  # Lower triangular half of M"
   ]
  },
  {
   "cell_type": "code",
   "execution_count": null,
   "metadata": {
    "collapsed": true
   },
   "outputs": [],
   "source": [
    "A[a:b,k]    # returns the a-th through b-th rows of the k-th column of A as a Vector of length (b-a+1)\n",
    "A[k,a:b]    # returns the ath through bth columns of the k-th row of A as a 1 x (b-a+1) Matrix\n",
    "A[:,k]      # returns all rows of the k-th column of A as a Vector of length size(A,1)\n",
    "A[k,:]      # returns all columns of the k-th row of A as a 1 x size(A,2) Matrix\n",
    "A[a:b,c:d]  # returns the a-th through b-th rows and c-th through d-th columns of A \n",
    "            # as a (b-a+1) x (d-c+1) Matrix\n",
    "A[[1,3,4],2]  # returns the 1st, 3rd and 4th rows of the 2nd column of A\n"
   ]
  },
  {
   "cell_type": "code",
   "execution_count": null,
   "metadata": {
    "collapsed": true
   },
   "outputs": [],
   "source": [
    "A=rand(5,5)\n",
    "norm(A)       # The induced 2-norm\n",
    "norm(A,Inf)   # The induced ∞-norm\n",
    "norm(A,1)     # The induced 1-norm\n",
    "cond(A)       # The condition number, i.e., norm(A)*norm(inv(A))"
   ]
  },
  {
   "cell_type": "markdown",
   "metadata": {},
   "source": [
    "# Matrix Factorizations"
   ]
  },
  {
   "cell_type": "code",
   "execution_count": null,
   "metadata": {
    "collapsed": true
   },
   "outputs": [],
   "source": [
    "n=5\n",
    "A=rand(n,n)\n",
    "L,U,σ=lu(A)   # LUP Factorization where σ is a Vector{Int}\n",
    "\n",
    "Q,R=qr(A)     # QR Factorizaiton\n",
    "\n",
    "\n",
    "\n",
    "A=rand(5,10)\n",
    "Z=nullspace(A) # Gives an orthogonal matrix whose columns are the nullspace of A: A*Z is zero"
   ]
  },
  {
   "cell_type": "markdown",
   "metadata": {},
   "source": [
    "# Strings\n",
    "\n",
    "Strings can be created using double quotes:"
   ]
  },
  {
   "cell_type": "code",
   "execution_count": 7,
   "metadata": {
    "collapsed": false
   },
   "outputs": [
    {
     "data": {
      "text/plain": [
       "\"hello world 😀\""
      ]
     },
     "execution_count": 7,
     "metadata": {},
     "output_type": "execute_result"
    }
   ],
   "source": [
    "str=\"hello world 😀\""
   ]
  },
  {
   "cell_type": "markdown",
   "metadata": {},
   "source": [
    "We can access characters of a string with brackets:"
   ]
  },
  {
   "cell_type": "code",
   "execution_count": null,
   "metadata": {
    "collapsed": true
   },
   "outputs": [],
   "source": [
    "str[13]  # thirteenth-characher, which is of type Char"
   ]
  },
  {
   "cell_type": "markdown",
   "metadata": {},
   "source": [
    "There are a number of helper functions:"
   ]
  },
  {
   "cell_type": "code",
   "execution_count": 10,
   "metadata": {
    "collapsed": false
   },
   "outputs": [
    {
     "data": {
      "text/plain": [
       "13"
      ]
     },
     "execution_count": 10,
     "metadata": {},
     "output_type": "execute_result"
    }
   ],
   "source": [
    "length(str)            # The number of characters"
   ]
  },
  {
   "cell_type": "markdown",
   "metadata": {},
   "source": [
    "# Parse and reinterpret\n",
    "\n",
    "`parse` converts a number given in String format:"
   ]
  },
  {
   "cell_type": "code",
   "execution_count": 11,
   "metadata": {
    "collapsed": false
   },
   "outputs": [
    {
     "data": {
      "text/plain": [
       "123.45"
      ]
     },
     "execution_count": 11,
     "metadata": {},
     "output_type": "execute_result"
    }
   ],
   "source": [
    "parse(Int,\"123\")        # Parses 123 as an Int\n",
    "parse(Int,\"-10101\",2)   # Parses -21 given in base 2 (-10101)_2 as an Int\n",
    "parse(Float64,\"123.45\") # Parses 123.45 as a Float64 "
   ]
  },
  {
   "cell_type": "markdown",
   "metadata": {},
   "source": [
    "We can also reinterpret numbers as another type of the same length:"
   ]
  },
  {
   "cell_type": "code",
   "execution_count": 14,
   "metadata": {
    "collapsed": false
   },
   "outputs": [
    {
     "data": {
      "text/plain": [
       "'🙊'"
      ]
     },
     "execution_count": 14,
     "metadata": {},
     "output_type": "execute_result"
    }
   ],
   "source": [
    "bts=\"00000000000000011111011001001010\"\n",
    "x=parse(UInt32,bts,2)  # parses 128586 as an UInt32\n",
    "reinterpret(Char,x)    # reinterprets the bits as a 1285"
   ]
  },
  {
   "cell_type": "markdown",
   "metadata": {},
   "source": [
    "# Plotting in PyPlot\n",
    "\n",
    "We use PyPlot to do plotting, here are some simple examples:"
   ]
  },
  {
   "cell_type": "code",
   "execution_count": 19,
   "metadata": {
    "collapsed": false
   },
   "outputs": [
    {
     "data": {
      "image/png": "[encoded data removed]",
      "text/plain": [
       "PyPlot.Figure(PyObject <matplotlib.figure.Figure object at 0x311f91b50>)"
      ]
     },
     "metadata": {},
     "output_type": "display_data"
    }
   ],
   "source": [
    "using PyPlot \n",
    "\n",
    "plot([0.,0.],[1.,-4.])                         # draw line from [0.,1.] to [0.,-4.]\n",
    "plot([0.,2.],[1.,-5.];linestyle=\"--\")          # draw  dashed line from [0.,1.] to [2.,-5.]\n",
    "plot(rand(3),rand(3);marker=\"o\",linestyle=\"\")  # draw 3 random points as circles\n",
    "plot(rand(3),rand(3);marker=\"^\",linestyle=\"\")  # draw 3 random points as triangles\n",
    "\n",
    "arrow(1.,-1.,0.5,-1.; head_width=0.05,head_length=0.1)  # draws an arrow from (1,-1) to (1+0.5,-1-1.)\n",
    "\n",
    "axis([-1,2,-4,1])                              # Change the axis to (-1,-5) to (2,1);"
   ]
  },
  {
   "cell_type": "markdown",
   "metadata": {},
   "source": [
    "We can plot functions by evaluating at many x values to get the y values, and doing a line plot:"
   ]
  },
  {
   "cell_type": "code",
   "execution_count": 20,
   "metadata": {
    "collapsed": false
   },
   "outputs": [
    {
     "data": {
      "image/png": "[encoded data removed]",
      "text/plain": [
       "PyPlot.Figure(PyObject <matplotlib.figure.Figure object at 0x31215eed0>)"
      ]
     },
     "metadata": {},
     "output_type": "display_data"
    }
   ],
   "source": [
    "x=-1.:0.01:1.\n",
    "plot(x,cos(20x.^2))   # Remember: we need .^, ./, etc. when we want to apply entrywise to a vector/matrix;"
   ]
  },
  {
   "cell_type": "markdown",
   "metadata": {},
   "source": [
    "A `semilogy` plot scales the y-axis logarithmically.  It shows exponential behaviour as straight lines, with the slow given by the exponent:"
   ]
  },
  {
   "cell_type": "code",
   "execution_count": 26,
   "metadata": {
    "collapsed": false,
    "scrolled": true
   },
   "outputs": [
    {
     "data": {
      "image/png": "[encoded data removed]",
      "text/plain": [
       "PyPlot.Figure(PyObject <matplotlib.figure.Figure object at 0x3125ae0d0>)"
      ]
     },
     "metadata": {},
     "output_type": "display_data"
    }
   ],
   "source": [
    "k=(0.:25.)\n",
    "semilogy(k,exp(-2k))  # Log scale the y axis;\n",
    "semilogy(k,10.(-k))  # Log scale the y axis;"
   ]
  },
  {
   "cell_type": "markdown",
   "metadata": {},
   "source": [
    "A `loglog` plot scales both x and y-axis logarithmically.  It shows algebraic behaviour as straight lines, with the slope "
   ]
  },
  {
   "cell_type": "markdown",
   "metadata": {},
   "source": [
    "## 3D Plots "
   ]
  },
  {
   "cell_type": "code",
   "execution_count": 12,
   "metadata": {
    "collapsed": false
   },
   "outputs": [
    {
     "name": "stderr",
     "output_type": "stream",
     "text": [
      "/usr/local/lib/python2.7/site-packages/matplotlib/collections.py:590: FutureWarning: elementwise comparison failed; returning scalar instead, but in the future will perform elementwise comparison\n",
      "  if self._edgecolors == str('face'):\n"
     ]
    },
    {
     "data": {
      "image/png": "[encoded data removed]",
      "text/plain": [
       "PyPlot.Figure(PyObject <matplotlib.figure.Figure object at 0x312ef4450>)"
      ]
     },
     "metadata": {},
     "output_type": "display_data"
    }
   ],
   "source": [
    "f(x,y)=y*x^2   \n",
    "\n",
    "x=y=linspace(-1.,1.,100)\n",
    "\n",
    "z=Float64[\n",
    "    f(x[j],y[k]) \n",
    "    for k=1:length(y), j=1:length(x)]\n",
    "\n",
    "\n",
    "using PyPlot\n",
    "\n",
    "surf(x,y,z)  # 3D plot of f;"
   ]
  }
 ],
 "metadata": {
  "kernelspec": {
   "display_name": "Julia 0.4.5",
   "language": "julia",
   "name": "julia-0.4"
  },
  "language_info": {
   "file_extension": ".jl",
   "mimetype": "application/julia",
   "name": "julia",
   "version": "0.4.5"
  }
 },
 "nbformat": 4,
 "nbformat_minor": 0
}
