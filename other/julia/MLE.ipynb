{
 "cells": [
  {
   "cell_type": "code",
   "execution_count": 1,
   "metadata": {
    "collapsed": true
   },
   "outputs": [],
   "source": [
    "\n",
    "%matplotlib inline\n",
    "import matplotlib.pyplot as plt\n",
    "import numpy as np\n",
    "import scipy as scipy\n",
    "from scipy.interpolate import interp1d"
   ]
  },
  {
   "cell_type": "code",
   "execution_count": null,
   "metadata": {
    "collapsed": true
   },
   "outputs": [],
   "source": []
  },
  {
   "cell_type": "markdown",
   "metadata": {},
   "source": [
    "\n",
    "\n",
    "### Example: Maximum Likelihood Estimation (MLE)\n",
    "http://people.duke.edu/~ccc14/sta-663-2016/11_OptimizationOneDimension.html#Example:-Maximum-Likelihood-Estimation-(MLE)\n",
    "\n",
    "\n",
    "\n",
    "\n",
    "\n",
    "\n",
    "$$L(X;\\theta) = \\prod_{i=1}^n f(X_i;\\theta)$$\n",
    "\n",
    "\n",
    "Because loglog is a monotonically increasing function, any value of θθ that maximizes log(L)log⁡(L) also maximizes LL.\n",
    "\n",
    "$$\\begin{split}\\begin{eqnarray*}\n",
    "\\ell(X;\\theta) &=& \\log(L(X;\\theta)) \\\\\\\\\n",
    "&=& \\log\\left(\\prod_{i=1}^n f(X_i;\\theta)\\right)\\\\\\\\\n",
    "&=&\\sum_{i=1}^n \\log(f(X_i;\\theta)\n",
    "\\end{eqnarray*}\\end{split}$$\n",
    "\n",
    "\n",
    "Optimization then amounts to finding the zeros of\n",
    "\n",
    "\n",
    "$$\\begin{split}\\begin{eqnarray*}\n",
    "\\frac{\\partial\\ell}{\\partial \\theta} &=& \\frac{\\partial}{\\partial \\theta} \\left(\\sum_{i=1}^n\\log(f(X_i;\\theta)\\right)\\\\\\\\\n",
    "&=& \\sum_{i=1}^n \\frac{\\partial\\log(f(X_i;\\theta)}{\\partial \\theta}\n",
    "\\end{eqnarray*}\\end{split}$$\n",
    "\n",
    "\n",
    "\n"
   ]
  },
  {
   "cell_type": "code",
   "execution_count": 2,
   "metadata": {
    "collapsed": false
   },
   "outputs": [
    {
     "data": {
      "image/png": "[encoded data removed]",
      "text/plain": [
       "<matplotlib.figure.Figure at 0x7fcea008a510>"
      ]
     },
     "metadata": {},
     "output_type": "display_data"
    }
   ],
   "source": [
    "# Bisection Method\n",
    "\n",
    "def f(x):\n",
    "    return x**3 + 4*x**2 -3\n",
    "\n",
    "x = np.linspace(-3.1, 0, 100)\n",
    "plt.plot(x, x**3 + 4*x**2 -3)\n",
    "\n",
    "a = -3.0\n",
    "b = -0.5\n",
    "c = 0.5*(a+b)\n",
    "\n",
    "plt.text(a,-1,\"a\")\n",
    "plt.text(b,-1,\"b\")\n",
    "plt.text(c,-1,\"c\")\n",
    "\n",
    "plt.scatter([a,b,c], [f(a), f(b),f(c)], s=50, facecolors='none')\n",
    "plt.scatter([a,b,c], [0,0,0], s=50, c='red')\n",
    "\n",
    "xaxis = plt.axhline(0);\n",
    "\n"
   ]
  },
  {
   "cell_type": "code",
   "execution_count": 3,
   "metadata": {
    "collapsed": false
   },
   "outputs": [
    {
     "data": {
      "image/png": "[encoded data removed]",
      "text/plain": [
       "<matplotlib.figure.Figure at 0x7fce7cad4750>"
      ]
     },
     "metadata": {},
     "output_type": "display_data"
    }
   ],
   "source": [
    "x = np.linspace(-3.1, 0, 100)\n",
    "plt.plot(x, x**3 + 4*x**2 -3)\n",
    "\n",
    "d = 0.5*(b+c)\n",
    "\n",
    "plt.text(d,-1,\"d\")\n",
    "plt.text(b,-1,\"b\")\n",
    "plt.text(c,-1,\"c\")\n",
    "\n",
    "plt.scatter([d,b,c], [f(d), f(b),f(c)], s=50, facecolors='none')\n",
    "plt.scatter([d,b,c], [0,0,0], s=50, c='red')\n",
    "\n",
    "xaxis = plt.axhline(0);"
   ]
  },
  {
   "cell_type": "markdown",
   "metadata": {},
   "source": [
    "We can terminate the process whenever the function evaluated at the new midpoint is ‘close enough’ to zero. This method is an example of what are known as ‘bracketed methods’. This means the root is ‘bracketed’ by the end-points (it is somewhere in between). Another class of methods are ‘open methods’ - the root need not be somewhere in between the end-points (but it usually needs to be close!)"
   ]
  },
  {
   "cell_type": "code",
   "execution_count": null,
   "metadata": {
    "collapsed": true
   },
   "outputs": [],
   "source": []
  },
  {
   "cell_type": "code",
   "execution_count": null,
   "metadata": {
    "collapsed": true
   },
   "outputs": [],
   "source": []
  },
  {
   "cell_type": "code",
   "execution_count": null,
   "metadata": {
    "collapsed": true
   },
   "outputs": [],
   "source": []
  },
  {
   "cell_type": "code",
   "execution_count": null,
   "metadata": {
    "collapsed": true
   },
   "outputs": [],
   "source": []
  },
  {
   "cell_type": "code",
   "execution_count": null,
   "metadata": {
    "collapsed": true
   },
   "outputs": [],
   "source": []
  },
  {
   "cell_type": "code",
   "execution_count": null,
   "metadata": {
    "collapsed": true
   },
   "outputs": [],
   "source": []
  }
 ],
 "metadata": {
  "kernelspec": {
   "display_name": "Python 2",
   "language": "python",
   "name": "python2"
  },
  "language_info": {
   "codemirror_mode": {
    "name": "ipython",
    "version": 2
   },
   "file_extension": ".py",
   "mimetype": "text/x-python",
   "name": "python",
   "nbconvert_exporter": "python",
   "pygments_lexer": "ipython2",
   "version": "2.7.6"
  }
 },
 "nbformat": 4,
 "nbformat_minor": 1
}
