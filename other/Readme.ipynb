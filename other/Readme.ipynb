{
 "cells": [
  {
   "cell_type": "markdown",
   "metadata": {},
   "source": [
    "# Online JupyterHub\n",
    "\n",
    "\n",
    "http://intro.syzygy.ca/getting-started/\n",
    "\n",
    "\n",
    "* uvic.syzygy.ca\n",
    "\n",
    "* https://cybera.syzygy.ca Cybera (via Google Authentication)"
   ]
  },
  {
   "cell_type": "markdown",
   "metadata": {},
   "source": [
    "Your “university credentials” will be something like your campus-wide login ID, student or employee number, etc. You will also need to enter the password connected to your campus-wide login ID or number. This information is held privately by your university IT group, so privacy is assured by your university.\n",
    "Anyone with Google credentials can use https://cybera.syzygy.ca for research, learning or innovation (including post secondary institutions, K-12 and business incubators).\n",
    "You can use any web browser that you like. However, some experience suggests the following: \n",
    "- Firefox is better at rendering math formulas, but cut/copy/paste does not work in the terminal. \n",
    "- Chrome is better at cut/copy/paste in the terminal, important when using GIT, for instance. \n",
    "- Safari works fine, including on iPads and iPhones. - Internet Explorer is not something to use, for many good reasons\n",
    "\n",
    "\n",
    "\n",
    "* https://pims.jupyter.ca (via Google Authentication)\n",
    "\n",
    "* try.jupyter.org (via Google Authentication)\n",
    "\n",
    "* https://cocalc.com (via Google/github Authentication)"
   ]
  },
  {
   "cell_type": "markdown",
   "metadata": {},
   "source": [
    "## Jupyter notebook\n",
    "\n",
    "28 Jupyter Notebook tips, tricks and shortcuts\n",
    "https://www.dataquest.io/blog/jupyter-notebook-tips-tricks-shortcuts/\n",
    "\n",
    "%matplotlib inline uses the dpi value from savefig.dpi and %matplotlib notebook used figure.dpi, so you'll need something like\n",
    "``\n",
    "import matplotlib as mpl\n",
    "mpl.rcParams['savefig.dpi'] = 80\n",
    "mpl.rcParams['figure.dpi'] = 80\n",
    "```"
   ]
  },
  {
   "cell_type": "markdown",
   "metadata": {
    "collapsed": true
   },
   "source": [
    "## introduction to Jupyter notebooks and scientific python\n",
    "\n",
    "An excellent introduction to Jupyter notebooks and scientific python for economists written by John Stachurski i\n",
    "s at this link:\n",
    "\n",
    "\n",
    "https://lectures.quantecon.org/py/learning_python.html\n",
    "\n",
    "https://www.cc.gatech.edu/~simpkins/teaching/python-bootcamp/august2016.html\n",
    "\n",
    "https://github.com/jhconning/Dev-II/blob/master/notebooks/jupyter_notebooks.ipynb"
   ]
  },
  {
   "cell_type": "markdown",
   "metadata": {},
   "source": [
    "### Scipy Cookbook\n",
    "\n",
    "http://scipy-cookbook.readthedocs.io/index.\n",
    "\n",
    "https://github.com/fangohr/introduction-to-python-for-computational-science-and-engineering/blob/master/16-scipy.ipynb\n",
    "\n"
   ]
  },
  {
   "cell_type": "markdown",
   "metadata": {},
   "source": [
    "### Numpy\n",
    "\n",
    "http://cs231n.github.io/python-numpy-tutorial/\n",
    "\n",
    "https://render.githubusercontent.com/view/14-numpy.ipynb\n",
    "\n",
    "https://github.com/stefanv/teaching/blob/master/2016_aspp_reading_numpy/numpy_advanced.ipynb"
   ]
  },
  {
   "cell_type": "markdown",
   "metadata": {},
   "source": [
    "### Scipy\n",
    "\n",
    "http://nbviewer.jupyter.org/github/jdwittenauer/ipython-notebooks/blob/master/notebooks/libraries/SciPy.ipynb\n",
    "\n"
   ]
  },
  {
   "cell_type": "markdown",
   "metadata": {},
   "source": [
    "### Plotting\n",
    "\n",
    "https://render.githubusercontent.com/view/15-visualising-data.ipynb"
   ]
  },
  {
   "cell_type": "markdown",
   "metadata": {
    "collapsed": true
   },
   "source": [
    "### Ipython magic\n",
    "\n",
    "http://nbviewer.jupyter.org/github/jdwittenauer/ipython-notebooks/blob/master/notebooks/language/IPythonMagic.ipynb"
   ]
  },
  {
   "cell_type": "markdown",
   "metadata": {},
   "source": [
    "### Python for scientific computation and optimization\n",
    "\n",
    "https://docs.scipy.org/doc/scipy/reference/tutorial/optimize.html\n",
    "\n",
    "\n",
    "https://github.com/PlamenStilyianov/Python3/tree/master/Learning-SciPy-for-Numerical-and-Scientific-Computing-2nd\n",
    "\n",
    "http://people.duke.edu/~ccc14/sta-663-2016/11_OptimizationOneDimension.html#\n",
    "\n",
    "\n",
    "http://people.duke.edu/~ccc14/sta-663-2016/index.html\n",
    "Computational Statistics in Python\n",
    "\n",
    "https://github.com/unpingco/Python-for-Probability-Statistics-and-Machine-Learning/\n",
    "\n",
    "\n",
    "MATH3076/3976 Mathematical Computing"
   ]
  },
  {
   "cell_type": "code",
   "execution_count": null,
   "metadata": {
    "collapsed": true
   },
   "outputs": [],
   "source": [
    "np.random.seed(3)               # This seed makes sure your \"random\" numbers will be the as ours"
   ]
  },
  {
   "cell_type": "code",
   "execution_count": null,
   "metadata": {
    "collapsed": true
   },
   "outputs": [],
   "source": [
    "from scipy import optimize\n",
    "help(scipy.optimize)"
   ]
  },
  {
   "cell_type": "markdown",
   "metadata": {
    "collapsed": true
   },
   "source": [
    "## Install packages"
   ]
  },
  {
   "cell_type": "code",
   "execution_count": null,
   "metadata": {
    "collapsed": true
   },
   "outputs": [],
   "source": [
    "!pip install --upgrade --user pip"
   ]
  },
  {
   "cell_type": "code",
   "execution_count": null,
   "metadata": {
    "collapsed": true
   },
   "outputs": [],
   "source": [
    "!pip install --user quantecon"
   ]
  },
  {
   "cell_type": "code",
   "execution_count": null,
   "metadata": {
    "collapsed": true
   },
   "outputs": [],
   "source": [
    "from quantecon import quad"
   ]
  },
  {
   "cell_type": "code",
   "execution_count": null,
   "metadata": {
    "collapsed": true
   },
   "outputs": [],
   "source": [
    "from numba import *"
   ]
  },
  {
   "cell_type": "code",
   "execution_count": null,
   "metadata": {
    "collapsed": true
   },
   "outputs": [],
   "source": [
    "?generated_jit"
   ]
  },
  {
   "cell_type": "markdown",
   "metadata": {},
   "source": [
    "## Textbook\n",
    "\n",
    "\n",
    "* http://www.oreilly.com/programming/free/files/python-for-scientists.pdf\n",
    "\n",
    "\n",
    "\n",
    "* A Primer on Scientific Programming in Python, H.P. Langtangen https://hplgit.github.io/primer.html/doc/pub/half/book.pdf\n",
    "   * https://github.com/hplgit/scipro-primer\n",
    "\n"
   ]
  },
  {
   "cell_type": "markdown",
   "metadata": {},
   "source": [
    "\n",
    "### Stata in a jupyter notebook\n",
    "\n",
    "\n",
    "https://github.com/jhconning/Dev-II/blob/master/notebooks/Stata_in_jupyter.ipynb\n",
    "\n",
    "\n",
    "https://github.com/TiesdeKok/ipystata\n",
    "ipystata: Ties de Kok has written a nice python library that allows one to write and execute Stata code in cellblocks that are preceded by a %%stata magic command in a notebook that is otherwise running python. This allows you to pass data between python and Stata sessions and to display Stata plots inline."
   ]
  },
  {
   "cell_type": "code",
   "execution_count": null,
   "metadata": {
    "collapsed": true
   },
   "outputs": [],
   "source": []
  },
  {
   "cell_type": "code",
   "execution_count": null,
   "metadata": {
    "collapsed": true
   },
   "outputs": [],
   "source": []
  },
  {
   "cell_type": "markdown",
   "metadata": {
    "collapsed": true
   },
   "source": [
    "## Plot\n",
    "\n",
    "There are many, many more plot types available.  One useful way to explore these is by\n",
    "looking at the [matplotlib gallery](http://matplotlib.org/gallery.html).\n",
    "\n",
    "You can test these examples out easily in the notebook: simply copy the ``Source Code``\n",
    "link on each page, and put it in a notebook using the ``%load`` magic.\n",
    "For example:"
   ]
  },
  {
   "cell_type": "code",
   "execution_count": null,
   "metadata": {
    "collapsed": true
   },
   "outputs": [],
   "source": [
    "# %load http://matplotlib.org/mpl_examples/pylab_examples/ellipse_collection.py"
   ]
  },
  {
   "cell_type": "code",
   "execution_count": null,
   "metadata": {
    "collapsed": true
   },
   "outputs": [],
   "source": []
  },
  {
   "cell_type": "markdown",
   "metadata": {},
   "source": [
    "## Git and Github\n",
    "\n",
    "```\n",
    "%%bash\n",
    "git config --global user.email \"your_email@whatever.ca\"\n",
    "git config --global user.name \"Your Name\"\n",
    "```\n",
    "https://github.com/snowdj/Math651w17/blob/master/Lec1_Git_Github.ipynb"
   ]
  },
  {
   "cell_type": "markdown",
   "metadata": {
    "collapsed": true
   },
   "source": [
    "## Example - cloning from Github\n",
    "\n",
    "To clone the repo of lecture notes for this course, run the following commands:\n",
    "\n",
    "```python\n",
    "%%bash\n",
    "git clone https://github.com/mlamoureux/Math651w17.git\n",
    "```\n",
    "You should now be able to see a new folder in your syzygy account called \"Math651w17\". Inside you will see all the notes for the course that have been produced so far.\n",
    "\n",
    "## Example - updating your files from Github\n",
    "\n",
    "As we add lecture notes to the Github repo, you will want to update your copies. You should use the \"pull\" command as follows:\n",
    "\n",
    "```python\n",
    "%%bash\n",
    "git pull origin master\n",
    "```\n",
    "\n",
    "What this means is you are pulling data from the original repo on github (called origin) using the master branch (which is the only branch we have right now.)\n",
    "\n",
    "## Using the unix terminal\n",
    "You don't have to use the magic command %%bash if you prefer direct unix. In the first tree of the Jupyter service, go to the \"New\" menu and select \"Terminal\". This opens a unix terminal that you can do all your unix-y things directly.\n",
    "\n",
    "Make sure you are in the main directory of the repo you are interested in (say the Math651w17 repo). Then type in your relevant git command, like\n",
    "```python\n",
    "git pull origin master\n",
    "```\n",
    "\n",
    "\n",
    "### Pushing back up to Github\n",
    "\n",
    "Once you've added some files in your local repo, or made changes to existing files, you need to push them back to Github.\n",
    "\n",
    "First, tell git to add all the files and folders in the repo to the list of things to add\n",
    "```python\n",
    "git add *\n",
    "```\n",
    "\n",
    "Next, tell git that you are committing the changes (i.e. you really want to finalize these changes\n",
    "```python\n",
    "git commit -m \"Here are my latest changes\"\n",
    "```\n",
    "(You must include a message to the commit, might as well make it informative.)\n",
    "\n",
    "Finally, you push the changes to the origin, at the master branch\n",
    "```python\n",
    "git push origin master\n",
    "```\n",
    "(This command MUST be done from the unix shell, in the terminal, because it will ask you for a user name and password for the repo. In Michael's example, the user name is mlamoureux, and of course he won't tell you his password.)\n"
   ]
  },
  {
   "cell_type": "code",
   "execution_count": null,
   "metadata": {
    "collapsed": true
   },
   "outputs": [],
   "source": [
    "%%bash\n",
    "git config --global user.email \"jonduan@uvic.ca\"\n",
    "git config --global user.name \"jonduan\""
   ]
  },
  {
   "cell_type": "code",
   "execution_count": null,
   "metadata": {
    "collapsed": true
   },
   "outputs": [],
   "source": []
  }
 ],
 "metadata": {
  "kernelspec": {
   "display_name": "Python 3",
   "language": "python",
   "name": "python3"
  },
  "language_info": {
   "codemirror_mode": {
    "name": "ipython",
    "version": 3
   },
   "file_extension": ".py",
   "mimetype": "text/x-python",
   "name": "python",
   "nbconvert_exporter": "python",
   "pygments_lexer": "ipython3",
   "version": "3.6.2"
  }
 },
 "nbformat": 4,
 "nbformat_minor": 1
}
