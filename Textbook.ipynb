{
 "cells": [
  {
   "cell_type": "markdown",
   "metadata": {},
   "source": [
    "http://compeconworkshop.org/\n",
    "\n",
    "Lectures in Applied Mathematics for Economists\n",
    "\n",
    "Graduate Course taught by Dr. Mario J. Miranda at The Ohio State University\n",
    "\n",
    "Part 1: Introduction\n",
    "\n",
    "Part 2: Linear Algebra\n",
    "\n",
    "Part 3: Real Analysis\n",
    "\n",
    "Part 4: Probability Models\n",
    "\n",
    "Part 5: Linear Equations\n",
    "\n",
    "Part 6: Nonlinear Equations\n",
    "\n",
    "Part 7: Finite-Dimensional Unconstrained Optimization\n",
    "\n",
    "Part 8: Finite-Dimensional Constrained Optimization\n",
    "\n",
    "Part 9: Numerical Integration and Differentiation\n",
    "\n",
    "Part 10: Numerical Functional Equation Methods\n",
    "\n",
    "Part 11: Introduction to Discrete Time Dynamic Optimization\n",
    "\n",
    "Part 12: Discrete Time Continuous Action Dynamic Economic Models\n",
    "\n",
    "Part 13: Other Discrete Time Dynamic Models\n",
    "\n",
    "Part 14: Introduction to Continuous Time Models\n",
    "\n",
    "Part 15: Continuous Time Deterministic Optimal Control\n",
    "\n",
    "Part 16: Continuous Time Stochastic Optimal Control\n",
    "\n",
    "Part 17: Continuous Time Asset Pricing"
   ]
  }
 ],
 "metadata": {
  "kernelspec": {
   "display_name": "Python 3",
   "language": "python",
   "name": "python3"
  },
  "language_info": {
   "codemirror_mode": {
    "name": "ipython",
    "version": 3
   },
   "file_extension": ".py",
   "mimetype": "text/x-python",
   "name": "python",
   "nbconvert_exporter": "python",
   "pygments_lexer": "ipython3",
   "version": "3.5.2"
  }
 },
 "nbformat": 4,
 "nbformat_minor": 2
}
