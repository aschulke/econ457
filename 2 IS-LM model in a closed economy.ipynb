{
 "cells": [
  {
   "cell_type": "code",
   "execution_count": null,
   "metadata": {
    "collapsed": true
   },
   "outputs": [],
   "source": [
    "from sympy import *\n",
    "%matplotlib inline\n",
    "\n",
    "\n",
    "init_printing(use_latex=True)"
   ]
  },
  {
   "cell_type": "markdown",
   "metadata": {},
   "source": [
    "## Model:\n",
    "\n",
    "- product equals aggregate demand, $Y = C + I +G$; \n",
    "\n",
    "- consumption function, $C = \\bar C + c(Y−T)$; \n",
    "\n",
    "- investment function, $I = \\bar I − bR$; \n",
    "\n",
    "\n",
    "- public spending function, $G = \\bar G$; \n",
    "\n",
    "- income taxes function, $T = \\bar T$; \n",
    "\n",
    "- monetary equilibrium, $M/P = kY − hR$; \n",
    "\n",
    "- money supply function, $M = \\bar M$."
   ]
  },
  {
   "cell_type": "markdown",
   "metadata": {},
   "source": [
    "## Endogenous variables: \n",
    "\n",
    "- product, $Y$;\n",
    "\n",
    "- consumption, $C$; \n",
    "\n",
    "- investment, $I$; \n",
    "\n",
    "- interest rate, $R$."
   ]
  },
  {
   "cell_type": "code",
   "execution_count": null,
   "metadata": {
    "collapsed": true
   },
   "outputs": [],
   "source": [
    "Y, C, I, R = symbols('Y C I R')"
   ]
  },
  {
   "cell_type": "markdown",
   "metadata": {},
   "source": [
    "## Exogenous variables: \n",
    "\n",
    "- government/public spending, $\\bar G$; \n",
    "\n",
    "- independent/autonomous consumption, $\\bar C$; \n",
    "\n",
    "- independent/autonomous investment, $\\bar I$; \n",
    "\n",
    "- income taxes, $\\bar T$;\n",
    "\n",
    "- money supply, $\\bar M$; \n",
    "\n",
    "- price level (fixed), $\\bar P$."
   ]
  },
  {
   "cell_type": "code",
   "execution_count": null,
   "metadata": {
    "collapsed": true
   },
   "outputs": [],
   "source": [
    "Gbar, Cbar, Ibar, Tbar, Mbar, Pbar = symbols( 'Gbar Cbar Ibar Tbar Mbar Pbar')"
   ]
  },
  {
   "cell_type": "markdown",
   "metadata": {},
   "source": [
    "## Parameters:\n",
    "- $c$ is the propensity to consume, $0 < c < 1$; \n",
    "\n",
    "- $b > 0$ is the interest sensitivity of investment; \n",
    "\n",
    "- $k > 0$ is the output sensitivity of the demand for money; \n",
    "\n",
    "- $h > 0$ is the interest sensitivity of the demand for money.\n",
    "\n"
   ]
  },
  {
   "cell_type": "code",
   "execution_count": null,
   "metadata": {
    "collapsed": true
   },
   "outputs": [],
   "source": [
    "c, b, k, h = symbols('c b k h', positive = True)"
   ]
  },
  {
   "cell_type": "markdown",
   "metadata": {},
   "source": [
    "## IS curve\n",
    "\n",
    "The IS curve shows the continuum of combinations of the interest and production level at which there is equilibrium in the goods and services market:"
   ]
  },
  {
   "cell_type": "code",
   "execution_count": null,
   "metadata": {
    "collapsed": true
   },
   "outputs": [],
   "source": [
    "solve( Y - (Cbar + c*(Y-Tbar) + Ibar - b*R + Gbar),Y)"
   ]
  },
  {
   "cell_type": "code",
   "execution_count": null,
   "metadata": {
    "collapsed": true
   },
   "outputs": [],
   "source": []
  },
  {
   "cell_type": "markdown",
   "metadata": {},
   "source": [
    "## IS−LM model \n",
    "\n",
    "### A Closed Economy in the short−medium run"
   ]
  },
  {
   "cell_type": "code",
   "execution_count": null,
   "metadata": {
    "collapsed": true
   },
   "outputs": [],
   "source": [
    "# parameters \n",
    "c = 0.63  # marginal propensity to consume \n",
    "\n",
    "b = 1500 # s e n s ib i l i ty of the investment to the in te res t rate \n",
    "\n",
    "k = 0.6  # s e n s ib i l i ty of the money demand to the product \n",
    "\n",
    "h = 2700 # s e n s ib i l i ty of the money demand to the in te res t rate"
   ]
  },
  {
   "cell_type": "code",
   "execution_count": null,
   "metadata": {
    "collapsed": true
   },
   "outputs": [],
   "source": [
    "# policy exogenous variables \n",
    "C_bar = 55 # autonomous consumption \n",
    "\n",
    "I_bar = 75 # autonomous investment \n",
    "\n",
    "G_bar = 200 #government spending \n",
    "\n",
    "T_bar = 110 # tax on income \n",
    "\n",
    "M_bar = 200 # money supply \n",
    "\n",
    "P_bar = 1 #price leve l ( fixed in the short−run )"
   ]
  },
  {
   "cell_type": "code",
   "execution_count": null,
   "metadata": {
    "collapsed": true
   },
   "outputs": [],
   "source": [
    "# endogenous variables % Y, product % C, consumption % I , investment % R, in te res t rate\n",
    "\n",
    "import numpy as np\n",
    "# matrix representation of the model : Ax=d \n",
    "#% A, coe ffic ien t matrix % Y C I R \n",
    "A = np.matrix([ [1, -1, -1, 0], # Y=C+ I+G \n",
    "     [-c, 1, 0, 0], # C=C_bar+c(Y−T) \n",
    "     [0, 0, 1, b], # I=I_bar−bR \n",
    "     [k, 0, 0, -h] ]) # M/P=kY−hR\n"
   ]
  },
  {
   "cell_type": "code",
   "execution_count": null,
   "metadata": {
    "collapsed": true
   },
   "outputs": [],
   "source": [
    "A"
   ]
  },
  {
   "cell_type": "code",
   "execution_count": null,
   "metadata": {
    "collapsed": true
   },
   "outputs": [],
   "source": [
    "# x = [Y;C; I ;R] , vector of the endogeneous variables \n",
    "#  d, vector of the exogeneous variables \n",
    "\n",
    "d = np.array([ G_bar , C_bar - c*T_bar , I_bar , M_bar/P_bar ] )"
   ]
  },
  {
   "cell_type": "code",
   "execution_count": null,
   "metadata": {
    "collapsed": true
   },
   "outputs": [],
   "source": [
    "import pprint\n",
    "import scipy\n",
    "import scipy.linalg   # SciPy Linear Algebra Library"
   ]
  },
  {
   "cell_type": "code",
   "execution_count": null,
   "metadata": {
    "collapsed": true
   },
   "outputs": [],
   "source": [
    "# compute the endogenous variables \n",
    "P, L ,U = scipy.linalg.lu(A) # LU factoriza tion \n",
    "\n"
   ]
  },
  {
   "cell_type": "code",
   "execution_count": null,
   "metadata": {
    "collapsed": true
   },
   "outputs": [],
   "source": [
    "x = scipy.linalg.inv(U)@(scipy.linalg.inv(L)@ P@d) # solution of the linea r system"
   ]
  },
  {
   "cell_type": "code",
   "execution_count": null,
   "metadata": {
    "collapsed": true
   },
   "outputs": [],
   "source": [
    "#np.set_printoptions(precision=3)"
   ]
  },
  {
   "cell_type": "code",
   "execution_count": null,
   "metadata": {
    "collapsed": true
   },
   "outputs": [],
   "source": [
    "# x = [Y;C; I ;R] , vector of the endogeneous variables \n",
    "x\n"
   ]
  },
  {
   "cell_type": "code",
   "execution_count": null,
   "metadata": {
    "collapsed": true
   },
   "outputs": [],
   "source": [
    "print(\" IS-LM model: closed economy \\\n",
    "      \\n-----------------------------------------------------------\\\n",
    "      \\nexogenous variables: \\nG = 200; T = 110; M = 200; P = 1     \\\n",
    "      \\nproduct, Y = {0:.2f}，\\\n",
    "      \\nconsumption,C= {1:.2f}, \\\n",
    "      \\ninvestment,I =  {2:.2f}，\\\n",
    "      \\ninterest rate (%),R = {3:.2f}\".format(x[0],x[1],x[2],x[3]*100  ))"
   ]
  },
  {
   "cell_type": "code",
   "execution_count": null,
   "metadata": {
    "collapsed": true
   },
   "outputs": [],
   "source": [
    "# plot the so lution : IS−LM diagram (R against Y) \n",
    "\n",
    "# generate a grid on Y; in th is case , since th is is a line % only 2 points would have been required \n",
    "\n",
    "Y = np.linspace(0.95*x[0],1.05*x[0], num=100) \n",
    "    \n",
    "# IS : I=Y−C−G and I=I_bar−bR expressed in terms of R \n",
    "\n",
    "C = C_bar+c*(Y-T_bar ) \n",
    "\n",
    "I =Y-C-G_bar \n",
    "\n",
    "IS=( I_bar-I ) / b  \n",
    "\n",
    "# LM: M_bar/P_bar=kY−hR expressed in terms of R \n",
    "\n",
    "LM = 1/h*( k*Y-M_bar / P_bar ) "
   ]
  },
  {
   "cell_type": "code",
   "execution_count": null,
   "metadata": {
    "collapsed": true
   },
   "outputs": [],
   "source": []
  },
  {
   "cell_type": "code",
   "execution_count": null,
   "metadata": {
    "collapsed": true
   },
   "outputs": [],
   "source": [
    "import matplotlib.pyplot as plt\n",
    "\n",
    "%matplotlib notebook"
   ]
  },
  {
   "cell_type": "code",
   "execution_count": null,
   "metadata": {
    "collapsed": true
   },
   "outputs": [],
   "source": [
    "plt.figure(num=1)\n",
    "l1 = plt.plot(Y, IS , '--b', label='IS line')\n",
    "l2 = plt.plot(Y, LM,  color='red', linewidth=4.0, linestyle='-', label='LM line')\n",
    "plt.xlim((500, 560))\n",
    "plt.ylim((0.036, 0.05))\n",
    "plt.legend()"
   ]
  },
  {
   "cell_type": "markdown",
   "metadata": {},
   "source": [
    "## Fiscal policy: government/public authorities decrease taxes from 110 to 100\n",
    "\n",
    "shock: new value for T = 100.00"
   ]
  },
  {
   "cell_type": "code",
   "execution_count": null,
   "metadata": {
    "collapsed": true
   },
   "outputs": [],
   "source": [
    "T_bar = 100 # tax on income \n",
    "\n",
    "# x = [Y;C; I ;R] , vector of the endogeneous variables \n",
    "#  d, vector of the exogeneous variables \n",
    "\n",
    "d = np.array([ G_bar , C_bar - c*T_bar , I_bar , M_bar/P_bar ] )"
   ]
  },
  {
   "cell_type": "code",
   "execution_count": null,
   "metadata": {
    "collapsed": true
   },
   "outputs": [],
   "source": [
    "# compute the endogenous variables \n",
    "P, L ,U = scipy.linalg.lu(A) # LU factoriza tion \n",
    "\n",
    "new_x = scipy.linalg.inv(U)@(scipy.linalg.inv(L)@ P@d) # solution of the linea r system"
   ]
  },
  {
   "cell_type": "code",
   "execution_count": null,
   "metadata": {
    "collapsed": true
   },
   "outputs": [],
   "source": [
    "print(\" IS-LM model: closed economy \\\n",
    "      \\n-----------------------------------------------------------\\\n",
    "      \\nshock: new value for T = 100.00\\\n",
    "      \\nexogenous variables: \\nG = 200; T = 100; M = 200; P = 1     \\\n",
    "      \\nproduct, Y = {0:.2f}，\\\n",
    "      \\nconsumption,C= {1:.2f}, \\\n",
    "      \\ninvestment,I =  {2:.2f}，\\\n",
    "      \\ninterest rate (%),R = {3:.2f}\".format(new_x[0],new_x[1],new_x[2],new_x[3]*100  ))"
   ]
  },
  {
   "cell_type": "code",
   "execution_count": null,
   "metadata": {
    "collapsed": true
   },
   "outputs": [],
   "source": [
    "# plot the solution : IS−LM diagram (R against Y) \n",
    "\n",
    "# generate a grid on Y; in th is case , since th is is a line % only 2 points would have been required \n",
    "\n",
    "new_Y = np.linspace(0.95*new_x[0],1.05*new_x[0], num=100) \n",
    "    \n",
    "# IS : I=Y−C−G and I=I_bar−bR expressed in terms of R \n",
    "\n",
    "new_C = C_bar+c*(new_Y-T_bar ) \n",
    "\n",
    "new_I =new_Y-new_C-G_bar \n",
    "\n",
    "new_IS=( I_bar-new_I ) / b  \n",
    "\n",
    "# LM: M_bar/P_bar=kY−hR expressed in terms of R \n",
    "\n",
    "new_LM = 1/h*( k*new_Y-M_bar / P_bar ) "
   ]
  },
  {
   "cell_type": "code",
   "execution_count": null,
   "metadata": {
    "collapsed": true
   },
   "outputs": [],
   "source": [
    "plt.figure(num=2)\n",
    "l1 = plt.plot(Y, IS , '--b', label='IS line')\n",
    "l2 = plt.plot(Y, LM,  color='red', linewidth=2.0, linestyle='-', label='LM line')\n",
    "l1 = plt.plot(new_Y, new_IS , '--b', linewidth=4.0, label='new IS line')\n",
    "l2 = plt.plot(new_Y, new_LM,  color='red', linewidth=4.0, linestyle='-', label='new LM line')\n",
    "plt.xlim((500, 560))\n",
    "plt.ylim((0.036, 0.054))\n",
    "plt.legend()"
   ]
  },
  {
   "cell_type": "code",
   "execution_count": null,
   "metadata": {
    "collapsed": true
   },
   "outputs": [],
   "source": []
  },
  {
   "cell_type": "markdown",
   "metadata": {},
   "source": [
    "## Fiscal policy: government/public authorities increase public spending from 200 to 210\n",
    "\n",
    "shock: new value for G = 210.00"
   ]
  },
  {
   "cell_type": "code",
   "execution_count": null,
   "metadata": {
    "collapsed": true
   },
   "outputs": [],
   "source": [
    "G_bar = 210 #government spending \n",
    "T_bar = 110 # tax on income \n",
    "\n",
    "# x = [Y;C; I ;R] , vector of the endogeneous variables \n",
    "#  d, vector of the exogeneous variables \n",
    "\n",
    "d = np.array([ G_bar , C_bar - c*T_bar , I_bar , M_bar/P_bar ] )"
   ]
  },
  {
   "cell_type": "code",
   "execution_count": null,
   "metadata": {
    "collapsed": true
   },
   "outputs": [],
   "source": [
    "# compute the endogenous variables \n",
    "P, L ,U = scipy.linalg.lu(A) # LU factoriza tion \n",
    "\n",
    "new_x = scipy.linalg.inv(U)@(scipy.linalg.inv(L)@ P@d) # solution of the linea r system\n",
    "\n",
    "print(\" IS-LM model: closed economy \\\n",
    "      \\n-----------------------------------------------------------\\\n",
    "      \\nshock: new value for G = 210.00\\\n",
    "      \\nexogenous variables: \\nG = 210; T = 100; M = 200; P = 1     \\\n",
    "      \\nproduct, Y = {0:.2f}，\\\n",
    "      \\nconsumption,C= {1:.2f}, \\\n",
    "      \\ninvestment,I =  {2:.2f}，\\\n",
    "      \\ninterest rate (%),R = {3:.2f}\".format(new_x[0],new_x[1],new_x[2],new_x[3]*100  ))"
   ]
  },
  {
   "cell_type": "code",
   "execution_count": null,
   "metadata": {
    "collapsed": true
   },
   "outputs": [],
   "source": [
    "# plot the so lution : IS−LM diagram (R against Y) \n",
    "\n",
    "# generate a grid on Y; in th is case , since th is is a line % only 2 points would have been required \n",
    "\n",
    "new_Y = np.linspace(0.95*new_x[0],1.05*new_x[0], num=100) \n",
    "    \n",
    "# IS : I=Y−C−G and I=I_bar−bR expressed in terms of R \n",
    "\n",
    "new_C = C_bar+c*(new_Y-T_bar ) \n",
    "\n",
    "new_I =new_Y-new_C-G_bar \n",
    "\n",
    "new_IS=( I_bar-new_I ) / b  \n",
    "\n",
    "# LM: M_bar/P_bar=kY−hR expressed in terms of R \n",
    "\n",
    "new_LM = 1/h*( k*new_Y-M_bar / P_bar ) \n",
    "\n",
    "plt.figure(num=3)\n",
    "l1 = plt.plot(Y, IS , '--b', label='IS line')\n",
    "l2 = plt.plot(Y, LM,  color='red', linewidth=2.0, linestyle='-', label='LM line')\n",
    "l1 = plt.plot(new_Y, new_IS , '--b', linewidth=4.0, label='new IS line')\n",
    "l2 = plt.plot(new_Y, new_LM,  color='red', linewidth=4.0, linestyle='-', label='new LM line')\n",
    "plt.xlim((500, 570))\n",
    "plt.ylim((0.036, 0.054))\n",
    "plt.legend()"
   ]
  },
  {
   "cell_type": "code",
   "execution_count": null,
   "metadata": {
    "collapsed": true
   },
   "outputs": [],
   "source": []
  },
  {
   "cell_type": "code",
   "execution_count": null,
   "metadata": {
    "collapsed": true
   },
   "outputs": [],
   "source": []
  },
  {
   "cell_type": "code",
   "execution_count": null,
   "metadata": {
    "collapsed": true
   },
   "outputs": [],
   "source": []
  },
  {
   "cell_type": "code",
   "execution_count": null,
   "metadata": {
    "collapsed": true
   },
   "outputs": [],
   "source": []
  },
  {
   "cell_type": "markdown",
   "metadata": {},
   "source": [
    "## Monetary policy: monetary authorities decrease the money supply from 200 to 180\n",
    "\n",
    "shock: new value for M = 180.00"
   ]
  },
  {
   "cell_type": "code",
   "execution_count": null,
   "metadata": {
    "collapsed": true
   },
   "outputs": [],
   "source": [
    "G_bar = 200 #government spending \n",
    "T_bar = 110 # tax on income \n",
    "M_bar = 180.00\n",
    "\n",
    "# x = [Y;C; I ;R] , vector of the endogeneous variables \n",
    "#  d, vector of the exogeneous variables \n",
    "\n",
    "d = np.array([ G_bar , C_bar - c*T_bar , I_bar , M_bar/P_bar ] )"
   ]
  },
  {
   "cell_type": "code",
   "execution_count": null,
   "metadata": {
    "collapsed": true
   },
   "outputs": [],
   "source": [
    "# compute the endogenous variables \n",
    "P, L ,U = scipy.linalg.lu(A) # LU factoriza tion \n",
    "\n",
    "new_x = scipy.linalg.inv(U)@(scipy.linalg.inv(L)@ P@d) # solution of the linea r system\n",
    "\n",
    "print(\" IS-LM model: closed economy \\\n",
    "      \\n-----------------------------------------------------------\\\n",
    "      \\nshock: new value for M = 180.00\\\n",
    "      \\nexogenous variables: \\nG = 200; T = 100; M = 1800; P = 1     \\\n",
    "      \\nproduct, Y = {0:.2f}，\\\n",
    "      \\nconsumption,C= {1:.2f}, \\\n",
    "      \\ninvestment,I =  {2:.2f}，\\\n",
    "      \\ninterest rate (%),R = {3:.2f}\".format(new_x[0],new_x[1],new_x[2],new_x[3]*100  ))"
   ]
  },
  {
   "cell_type": "code",
   "execution_count": null,
   "metadata": {
    "collapsed": true
   },
   "outputs": [],
   "source": [
    "# plot the so lution : IS−LM diagram (R against Y) \n",
    "\n",
    "# generate a grid on Y; in th is case , since th is is a line % only 2 points would have been required \n",
    "\n",
    "new_Y = np.linspace(0.95*new_x[0],1.05*new_x[0], num=100) \n",
    "    \n",
    "# IS : I=Y−C−G and I=I_bar−bR expressed in terms of R \n",
    "\n",
    "new_C = C_bar+c*(new_Y-T_bar ) \n",
    "\n",
    "new_I =new_Y-new_C-G_bar \n",
    "\n",
    "new_IS=( I_bar-new_I ) / b  \n",
    "\n",
    "# LM: M_bar/P_bar=kY−hR expressed in terms of R \n",
    "\n",
    "new_LM = 1/h*( k*new_Y-M_bar / P_bar ) \n",
    "\n",
    "plt.figure(num=4)\n",
    "l1 = plt.plot(Y, IS , '--b', label='IS line')\n",
    "l2 = plt.plot(Y, LM,  color='red', linewidth=2.0, linestyle='-', label='LM line')\n",
    "l1 = plt.plot(new_Y, new_IS , '--b', linewidth=4.0, label='new IS line')\n",
    "l2 = plt.plot(new_Y, new_LM,  color='red', linewidth=4.0, linestyle='-', label='new LM line')\n",
    "plt.xlim((500, 560))\n",
    "plt.ylim((0.036, 0.054))\n",
    "plt.legend()"
   ]
  },
  {
   "cell_type": "markdown",
   "metadata": {},
   "source": [
    "## IS-LM Function\n",
    "\n",
    "\n"
   ]
  },
  {
   "cell_type": "code",
   "execution_count": null,
   "metadata": {
    "collapsed": true
   },
   "outputs": [],
   "source": [
    "def ISLM(G_bar = 200, T_bar = 110, M_bar = 180.00):\n",
    "    \"\"\"A function \n",
    "    # parameters \n",
    "    c = 0.63  # marginal propensity to consume \n",
    "\n",
    "    b = 1500 # s e n s ib i l i ty of the investment to the in te res t rate \n",
    "\n",
    "    k = 0.6  # s e n s ib i l i ty of the money demand to the product \n",
    "\n",
    "    h = 2700 # s e n s ib i l i ty of the money demand to the in te res t rate\n",
    "\n",
    "    \"\"\"\n",
    "    \n",
    "    \n",
    "    G_bar = 200 #government spending \n",
    "    T_bar = 110 # tax on income \n",
    "    M_bar = 180.00 \n",
    "\n",
    "    # x = [Y;C; I ;R] , vector of the endogeneous variables \n",
    "    #  d, vector of the exogeneous variables \n",
    "\n",
    "    d = np.array([ G_bar , C_bar - c*T_bar , I_bar , M_bar/P_bar ] )\n",
    "    "
   ]
  }
 ],
 "metadata": {
  "kernelspec": {
   "display_name": "Python 3",
   "language": "python",
   "name": "python3"
  },
  "language_info": {
   "codemirror_mode": {
    "name": "ipython",
    "version": 3
   },
   "file_extension": ".py",
   "mimetype": "text/x-python",
   "name": "python",
   "nbconvert_exporter": "python",
   "pygments_lexer": "ipython3",
   "version": "3.6.2"
  }
 },
 "nbformat": 4,
 "nbformat_minor": 2
}
